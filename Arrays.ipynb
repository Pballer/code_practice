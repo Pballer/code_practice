{
 "cells": [
  {
   "cell_type": "code",
   "execution_count": 130,
   "metadata": {},
   "outputs": [],
   "source": [
    "from collections import Counter"
   ]
  },
  {
   "cell_type": "markdown",
   "metadata": {},
   "source": [
    "Compute hourglass sum<br>\n",
    "\n",
    "Example hourglass with sum = 8:<br>\n",
    "1 1 1<br>\n",
    "&nbsp;&nbsp; 2<br>\n",
    "1 1 1<br>\n",
    "\n",
    "\n",
    "Question from: https://www.hackerrank.com/challenges/2d-array/problem?h_l=interview&playlist_slugs%5B%5D=interview-preparation-kit&playlist_slugs%5B%5D=arrays"
   ]
  },
  {
   "cell_type": "code",
   "execution_count": 33,
   "metadata": {},
   "outputs": [],
   "source": [
    "arr = [[-9, -9, -9, 1, 1, 1],\n",
    "       [0, -9, 0, 4, 3, 2],\n",
    "       [-9, -9, -9, 1, 2, 3],\n",
    "       [0, 0, 8, 6, 6, 0],\n",
    "       [0, 0, 0, -2, 0, 0],\n",
    "       [0, 0, 1, 2, 4, 0]]"
   ]
  },
  {
   "cell_type": "code",
   "execution_count": 34,
   "metadata": {},
   "outputs": [],
   "source": [
    "n = len(arr[0])\n",
    "j = len(arr)"
   ]
  },
  {
   "cell_type": "code",
   "execution_count": 71,
   "metadata": {},
   "outputs": [
    {
     "name": "stdout",
     "output_type": "stream",
     "text": [
      "[-63, -34, -9, 12]\n",
      "[-10, 0, 28, 23]\n",
      "[-27, -11, -2, 10]\n",
      "[9, 17, 25, 18]\n"
     ]
    }
   ],
   "source": [
    "max_val = float('-inf')\n",
    "for i in range(1, n-1):\n",
    "    row = []\n",
    "    for o in range(1, j-1):\n",
    "        top = sum(arr[i-1][o-1:o+2])\n",
    "        mid = arr[i][o]\n",
    "        bottom = sum(arr[i+1][o-1:o+2])\n",
    "        total = sum([top, mid, bottom])\n",
    "        row.append(total)\n",
    "        max_val = max(total, max_val)\n",
    "    print(row)"
   ]
  },
  {
   "cell_type": "code",
   "execution_count": 72,
   "metadata": {},
   "outputs": [
    {
     "data": {
      "text/plain": [
       "28"
      ]
     },
     "execution_count": 72,
     "metadata": {},
     "output_type": "execute_result"
    }
   ],
   "source": [
    "max_val"
   ]
  },
  {
   "cell_type": "markdown",
   "metadata": {},
   "source": [
    "Rotate array to the left by 'd' spaces.<br>\n",
    "Question from: https://www.hackerrank.com/challenges/ctci-array-left-rotation/problem?h_l=interview&playlist_slugs%5B%5D=interview-preparation-kit&playlist_slugs%5B%5D=arrays"
   ]
  },
  {
   "cell_type": "code",
   "execution_count": 105,
   "metadata": {},
   "outputs": [
    {
     "name": "stdout",
     "output_type": "stream",
     "text": [
      "4\n",
      "3\n",
      "2\n",
      "1\n",
      "0\n",
      "-1\n"
     ]
    }
   ],
   "source": []
  },
  {
   "cell_type": "code",
   "execution_count": null,
   "metadata": {},
   "outputs": [],
   "source": []
  },
  {
   "cell_type": "code",
   "execution_count": 108,
   "metadata": {},
   "outputs": [
    {
     "data": {
      "text/plain": [
       "[4, 5, 6, 1, 2, 3]"
      ]
     },
     "execution_count": 108,
     "metadata": {},
     "output_type": "execute_result"
    }
   ],
   "source": [
    "# Simple approach to rotate a list n spaces to the left.\n",
    "array[3:] + array[:3]"
   ]
  },
  {
   "cell_type": "code",
   "execution_count": 124,
   "metadata": {},
   "outputs": [
    {
     "data": {
      "text/plain": [
       "[4, 5, 6, 1, 2, 3]"
      ]
     },
     "execution_count": 124,
     "metadata": {},
     "output_type": "execute_result"
    }
   ],
   "source": [
    "[array[i-3] for i in range(len(array))]"
   ]
  },
  {
   "cell_type": "code",
   "execution_count": 109,
   "metadata": {},
   "outputs": [],
   "source": [
    "from collections import deque"
   ]
  },
  {
   "cell_type": "code",
   "execution_count": 110,
   "metadata": {},
   "outputs": [],
   "source": [
    "queue = deque(array)"
   ]
  },
  {
   "cell_type": "code",
   "execution_count": 112,
   "metadata": {},
   "outputs": [],
   "source": [
    "queue.rotate(3)"
   ]
  },
  {
   "cell_type": "code",
   "execution_count": 113,
   "metadata": {},
   "outputs": [
    {
     "data": {
      "text/plain": [
       "deque([4, 5, 6, 1, 2, 3])"
      ]
     },
     "execution_count": 113,
     "metadata": {},
     "output_type": "execute_result"
    }
   ],
   "source": [
    "queue"
   ]
  },
  {
   "cell_type": "code",
   "execution_count": null,
   "metadata": {},
   "outputs": [],
   "source": [
    "# inplace approach? \n",
    "array = [1, 2, 3, 4, 5, 6]\n",
    "d = 1\n",
    "for i in range(len(array)-1, -1, -1):\n",
    "    new_index = i - d\n",
    "    array\n",
    "    current = array[new_index]\n",
    "    array[new_index] = array[i]\n"
   ]
  },
  {
   "cell_type": "markdown",
   "metadata": {},
   "source": [
    "#### Minimum number of swaps to sort.\n",
    "https://www.hackerrank.com/challenges/minimum-swaps-2/problem?h_l=interview&playlist_slugs%5B%5D=interview-preparation-kit&playlist_slugs%5B%5D=arrays"
   ]
  },
  {
   "cell_type": "markdown",
   "metadata": {},
   "source": [
    "### Print Array in Spiral Order\n",
    "https://www.youtube.com/watch?v=siKFOI8PNKM&list=PL2_aWCzGMAwLPEZrZIcNEq9ukGWPfLT4A&index=5"
   ]
  },
  {
   "cell_type": "code",
   "execution_count": 33,
   "metadata": {},
   "outputs": [],
   "source": [
    "arr = [[1,  2,  3,  4,  5],\n",
    "       [14, 15, 16, 17, 6],\n",
    "       [13.5, 21, 22, 17.5, 6.5],\n",
    "       [13, 20, 19, 18, 7],\n",
    "       [12, 11, 10, 9, 8],\n",
    "      ]"
   ]
  },
  {
   "cell_type": "code",
   "execution_count": 34,
   "metadata": {},
   "outputs": [],
   "source": [
    "def spiral_print(arr):\n",
    "    t = 0\n",
    "    b = len(arr)\n",
    "    r = len(arr[0])\n",
    "    l = 0\n",
    "    direction = 0\n",
    "    \n",
    "    while (t < b and r > l):\n",
    "        if direction == 0:\n",
    "            for i in range(l, r):\n",
    "                print(arr[t][i])\n",
    "            t += 1\n",
    "            direction = 1\n",
    "        elif direction == 1:\n",
    "            for i in range(t, b):\n",
    "                print(arr[i][r-1])\n",
    "            r -= 1\n",
    "            direction = 2\n",
    "        elif direction == 2:\n",
    "            for i in range(r-1, l-1, -1):\n",
    "                print(arr[b-1][i])\n",
    "            b -= 1\n",
    "            direction = 3\n",
    "        else:\n",
    "            # direction 3\n",
    "            for i in range(b-1, t-1, -1):\n",
    "                print(arr[i][l])\n",
    "            l += 1\n",
    "            direction = 0"
   ]
  },
  {
   "cell_type": "code",
   "execution_count": 35,
   "metadata": {},
   "outputs": [
    {
     "name": "stdout",
     "output_type": "stream",
     "text": [
      "1\n",
      "2\n",
      "3\n",
      "4\n",
      "5\n",
      "6\n",
      "6.5\n",
      "7\n",
      "8\n",
      "9\n",
      "10\n",
      "11\n",
      "12\n",
      "13\n",
      "13.5\n",
      "14\n",
      "15\n",
      "16\n",
      "17\n",
      "17.5\n",
      "18\n",
      "19\n",
      "20\n",
      "21\n",
      "22\n"
     ]
    }
   ],
   "source": [
    "spiral_print(arr)"
   ]
  },
  {
   "cell_type": "markdown",
   "metadata": {},
   "source": [
    "### Merge two sorted arrays in-place\n",
    "https://leetcode.com/explore/featured/card/top-interview-questions-easy/96/sorting-and-searching/587/"
   ]
  },
  {
   "cell_type": "code",
   "execution_count": 35,
   "metadata": {},
   "outputs": [
    {
     "name": "stdout",
     "output_type": "stream",
     "text": [
      "target len: 17\n"
     ]
    }
   ],
   "source": [
    "arr1 = list(range(0,20, 2))\n",
    "arr2 = list(range(1, 14, 2))\n",
    "print('target len:', len(arr1) + len(arr2))"
   ]
  },
  {
   "cell_type": "code",
   "execution_count": 36,
   "metadata": {},
   "outputs": [],
   "source": [
    "def merge_sorted_arrays(arr1, arr2):\n",
    "    m = len(arr1)\n",
    "    n = len(arr2)\n",
    "    # Pad m with n spaces.\n",
    "    arr1.extend([0]*n)\n",
    "    \n",
    "    while m > 0 and n > 0:\n",
    "        if arr1[m-1] > arr2[n-1]:\n",
    "            arr1[m+n-1] = arr1[m-1]\n",
    "            m -= 1\n",
    "        else:\n",
    "            arr1[m+n-1] = arr2[n-1]\n",
    "            n -= 1\n",
    "                \n",
    "    while n:\n",
    "        arr1[n-1] = arr2[n-1]\n",
    "        n -= 1"
   ]
  },
  {
   "cell_type": "code",
   "execution_count": 37,
   "metadata": {},
   "outputs": [
    {
     "name": "stdout",
     "output_type": "stream",
     "text": [
      "new len: 17\n"
     ]
    },
    {
     "data": {
      "text/plain": [
       "[0, 1, 2, 3, 4, 5, 6, 7, 8, 9, 10, 11, 12, 13, 14, 16, 18]"
      ]
     },
     "execution_count": 37,
     "metadata": {},
     "output_type": "execute_result"
    }
   ],
   "source": [
    "merge_sorted_arrays(arr1, arr2)\n",
    "print('new len:', len(arr1))\n",
    "arr1"
   ]
  },
  {
   "cell_type": "markdown",
   "metadata": {},
   "source": [
    "### Intersection of two arrays\n",
    "https://leetcode.com/explore/featured/card/top-interview-questions-easy/92/array/674/"
   ]
  },
  {
   "cell_type": "code",
   "execution_count": 78,
   "metadata": {},
   "outputs": [],
   "source": [
    "# wrong answer.  question did not require order to be same.  \n",
    "# This works for consecutive match, but is very expensive b/c it will search all possible matches.\n",
    "def search_common(nums1, nums2):\n",
    "    \n",
    "    if not nums1:\n",
    "        return []\n",
    "    \n",
    "    for i in range(len(nums2)):\n",
    "        search_range = i + len(nums1)\n",
    "        if search_range > len(nums2):\n",
    "            break\n",
    "            \n",
    "        if nums1 == nums2[i:search_range]:\n",
    "            return nums1\n",
    "    \n",
    "    return max([search_common(nums1[:-1], nums2), \n",
    "                search_common(nums1[1:], nums2), \n",
    "                search_common(nums1[1:-1], nums2)], key=len)\n",
    "    "
   ]
  },
  {
   "cell_type": "code",
   "execution_count": 80,
   "metadata": {},
   "outputs": [
    {
     "data": {
      "text/plain": [
       "[4, 9, 5]"
      ]
     },
     "execution_count": 80,
     "metadata": {},
     "output_type": "execute_result"
    }
   ],
   "source": [
    "nums1 = [4,9,5]\n",
    "nums2 = [9,4,9, 5,8,4]\n",
    "\n",
    "search_common(nums1, nums2)"
   ]
  },
  {
   "cell_type": "code",
   "execution_count": null,
   "metadata": {},
   "outputs": [],
   "source": []
  },
  {
   "cell_type": "markdown",
   "metadata": {},
   "source": [
    "### Remove duplicates from sorted array in-place return unique count.\n",
    "https://leetcode.com/explore/featured/card/top-interview-questions-easy/92/array/727/"
   ]
  },
  {
   "cell_type": "code",
   "execution_count": 93,
   "metadata": {},
   "outputs": [],
   "source": [
    "def remove_duplicates(nums):\n",
    "    if len(nums) < 2:\n",
    "        return len(nums)\n",
    "    \n",
    "    distinct_index = 1\n",
    "    unique_count = 1\n",
    "    prev_num = nums[0]\n",
    "    \n",
    "    for i, num in enumerate(nums):\n",
    "        \n",
    "        if prev_num == num:\n",
    "            continue\n",
    "            \n",
    "        nums[distinct_index] = num\n",
    "        distinct_index += 1\n",
    "        unique_count += 1\n",
    "        prev_num = num\n",
    "        \n",
    "    return unique_count"
   ]
  },
  {
   "cell_type": "code",
   "execution_count": 94,
   "metadata": {},
   "outputs": [
    {
     "name": "stdout",
     "output_type": "stream",
     "text": [
      "4 [0, 1, 2, 7, 2, 7]\n"
     ]
    }
   ],
   "source": [
    "nums = [0, 0, 1, 1, 2, 7]\n",
    "count = remove_duplicates(nums)\n",
    "print(count, nums)"
   ]
  },
  {
   "cell_type": "code",
   "execution_count": 95,
   "metadata": {},
   "outputs": [
    {
     "data": {
      "text/plain": [
       "[0, 1, 2, 7]"
      ]
     },
     "execution_count": 95,
     "metadata": {},
     "output_type": "execute_result"
    }
   ],
   "source": [
    "nums[:count]"
   ]
  },
  {
   "cell_type": "markdown",
   "metadata": {},
   "source": [
    "### Find unique number\n",
    "All are repeated twice except for one. <br>\n",
    "https://leetcode.com/explore/featured/card/top-interview-questions-easy/92/array/549/"
   ]
  },
  {
   "cell_type": "code",
   "execution_count": 125,
   "metadata": {},
   "outputs": [],
   "source": [
    "# my default thinking.  uses extra memory.\n",
    "def find_unique(nums):\n",
    "    num_mem = set()\n",
    "    for num in nums:\n",
    "        if num in num_mem:\n",
    "            num_mem.remove(num)\n",
    "        else:\n",
    "            num_mem.add(num)\n",
    "            \n",
    "    return num_mem"
   ]
  },
  {
   "cell_type": "code",
   "execution_count": 127,
   "metadata": {},
   "outputs": [
    {
     "data": {
      "text/plain": [
       "{1}"
      ]
     },
     "execution_count": 127,
     "metadata": {},
     "output_type": "execute_result"
    }
   ],
   "source": [
    "nums = [1, 2, 2, 3, 3, 4, 4]\n",
    "find_unique(nums)"
   ]
  },
  {
   "cell_type": "code",
   "execution_count": 128,
   "metadata": {},
   "outputs": [],
   "source": [
    "def find_unique_optimized(nums):\n",
    "    ''' XOR: duplicates will cancel each other out. '''\n",
    "    a = 0\n",
    "    for num in nums:\n",
    "        a ^= num\n",
    "    return a"
   ]
  },
  {
   "cell_type": "code",
   "execution_count": 129,
   "metadata": {},
   "outputs": [
    {
     "data": {
      "text/plain": [
       "1"
      ]
     },
     "execution_count": 129,
     "metadata": {},
     "output_type": "execute_result"
    }
   ],
   "source": [
    "find_unique_optimized(nums)"
   ]
  },
  {
   "cell_type": "code",
   "execution_count": 150,
   "metadata": {},
   "outputs": [
    {
     "data": {
      "text/plain": [
       "Counter({17: 5, 2: 2, 4: 2, 1: 2, 18: 2})"
      ]
     },
     "execution_count": 150,
     "metadata": {},
     "output_type": "execute_result"
    }
   ],
   "source": [
    "# all nums are repeated even times but one is odd number of repititions.\n",
    "nums = [17, 2, 4, 2, 4, 1, 1, 17, 17, 17, 18, 18, 17]\n",
    "Counter(nums) # to help view input"
   ]
  },
  {
   "cell_type": "code",
   "execution_count": 151,
   "metadata": {},
   "outputs": [],
   "source": [
    "odd_num_repititions = 0\n",
    "for num in nums:\n",
    "    odd_num_repititions ^= num"
   ]
  },
  {
   "cell_type": "code",
   "execution_count": 152,
   "metadata": {},
   "outputs": [
    {
     "data": {
      "text/plain": [
       "17"
      ]
     },
     "execution_count": 152,
     "metadata": {},
     "output_type": "execute_result"
    }
   ],
   "source": [
    "odd_num_repititions"
   ]
  },
  {
   "cell_type": "code",
   "execution_count": null,
   "metadata": {},
   "outputs": [],
   "source": []
  }
 ],
 "metadata": {
  "kernelspec": {
   "display_name": "Python 3",
   "language": "python",
   "name": "python3"
  },
  "language_info": {
   "codemirror_mode": {
    "name": "ipython",
    "version": 3
   },
   "file_extension": ".py",
   "mimetype": "text/x-python",
   "name": "python",
   "nbconvert_exporter": "python",
   "pygments_lexer": "ipython3",
   "version": "3.7.4"
  }
 },
 "nbformat": 4,
 "nbformat_minor": 2
}
