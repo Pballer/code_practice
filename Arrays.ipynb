{
 "cells": [
  {
   "cell_type": "markdown",
   "metadata": {},
   "source": [
    "Compute hourglass sum<br>\n",
    "\n",
    "Example hourglass with sum = 8:<br>\n",
    "1 1 1<br>\n",
    "&nbsp;&nbsp; 2<br>\n",
    "1 1 1<br>\n",
    "\n",
    "\n",
    "Question from: https://www.hackerrank.com/challenges/2d-array/problem?h_l=interview&playlist_slugs%5B%5D=interview-preparation-kit&playlist_slugs%5B%5D=arrays"
   ]
  },
  {
   "cell_type": "code",
   "execution_count": 33,
   "metadata": {},
   "outputs": [],
   "source": [
    "arr = [[-9, -9, -9, 1, 1, 1],\n",
    "       [0, -9, 0, 4, 3, 2],\n",
    "       [-9, -9, -9, 1, 2, 3],\n",
    "       [0, 0, 8, 6, 6, 0],\n",
    "       [0, 0, 0, -2, 0, 0],\n",
    "       [0, 0, 1, 2, 4, 0]]"
   ]
  },
  {
   "cell_type": "code",
   "execution_count": 34,
   "metadata": {},
   "outputs": [],
   "source": [
    "n = len(arr[0])\n",
    "j = len(arr)"
   ]
  },
  {
   "cell_type": "code",
   "execution_count": 71,
   "metadata": {},
   "outputs": [
    {
     "name": "stdout",
     "output_type": "stream",
     "text": [
      "[-63, -34, -9, 12]\n",
      "[-10, 0, 28, 23]\n",
      "[-27, -11, -2, 10]\n",
      "[9, 17, 25, 18]\n"
     ]
    }
   ],
   "source": [
    "max_val = float('-inf')\n",
    "for i in range(1, n-1):\n",
    "    row = []\n",
    "    for o in range(1, j-1):\n",
    "        top = sum(arr[i-1][o-1:o+2])\n",
    "        mid = arr[i][o]\n",
    "        bottom = sum(arr[i+1][o-1:o+2])\n",
    "        total = sum([top, mid, bottom])\n",
    "        row.append(total)\n",
    "        max_val = max(total, max_val)\n",
    "    print(row)"
   ]
  },
  {
   "cell_type": "code",
   "execution_count": 72,
   "metadata": {},
   "outputs": [
    {
     "data": {
      "text/plain": [
       "28"
      ]
     },
     "execution_count": 72,
     "metadata": {},
     "output_type": "execute_result"
    }
   ],
   "source": [
    "max_val"
   ]
  },
  {
   "cell_type": "markdown",
   "metadata": {},
   "source": [
    "Rotate array to the left by 'd' spaces.<br>\n",
    "Question from: https://www.hackerrank.com/challenges/ctci-array-left-rotation/problem?h_l=interview&playlist_slugs%5B%5D=interview-preparation-kit&playlist_slugs%5B%5D=arrays"
   ]
  },
  {
   "cell_type": "code",
   "execution_count": 105,
   "metadata": {},
   "outputs": [
    {
     "name": "stdout",
     "output_type": "stream",
     "text": [
      "4\n",
      "3\n",
      "2\n",
      "1\n",
      "0\n",
      "-1\n"
     ]
    }
   ],
   "source": []
  },
  {
   "cell_type": "code",
   "execution_count": null,
   "metadata": {},
   "outputs": [],
   "source": []
  },
  {
   "cell_type": "code",
   "execution_count": 108,
   "metadata": {},
   "outputs": [
    {
     "data": {
      "text/plain": [
       "[4, 5, 6, 1, 2, 3]"
      ]
     },
     "execution_count": 108,
     "metadata": {},
     "output_type": "execute_result"
    }
   ],
   "source": [
    "# Simple approach to rotate a list n spaces to the left.\n",
    "array[3:] + array[:3]"
   ]
  },
  {
   "cell_type": "code",
   "execution_count": 124,
   "metadata": {},
   "outputs": [
    {
     "data": {
      "text/plain": [
       "[4, 5, 6, 1, 2, 3]"
      ]
     },
     "execution_count": 124,
     "metadata": {},
     "output_type": "execute_result"
    }
   ],
   "source": [
    "[array[i-3] for i in range(len(array))]"
   ]
  },
  {
   "cell_type": "code",
   "execution_count": 109,
   "metadata": {},
   "outputs": [],
   "source": [
    "from collections import deque"
   ]
  },
  {
   "cell_type": "code",
   "execution_count": 110,
   "metadata": {},
   "outputs": [],
   "source": [
    "queue = deque(array)"
   ]
  },
  {
   "cell_type": "code",
   "execution_count": 112,
   "metadata": {},
   "outputs": [],
   "source": [
    "queue.rotate(3)"
   ]
  },
  {
   "cell_type": "code",
   "execution_count": 113,
   "metadata": {},
   "outputs": [
    {
     "data": {
      "text/plain": [
       "deque([4, 5, 6, 1, 2, 3])"
      ]
     },
     "execution_count": 113,
     "metadata": {},
     "output_type": "execute_result"
    }
   ],
   "source": [
    "queue"
   ]
  },
  {
   "cell_type": "code",
   "execution_count": null,
   "metadata": {},
   "outputs": [],
   "source": [
    "# inplace approach? \n",
    "array = [1, 2, 3, 4, 5, 6]\n",
    "d = 1\n",
    "for i in range(len(array)-1, -1, -1):\n",
    "    new_index = i - d\n",
    "    array\n",
    "    current = array[new_index]\n",
    "    array[new_index] = array[i]\n"
   ]
  },
  {
   "cell_type": "markdown",
   "metadata": {},
   "source": [
    "#### Minimum number of swaps to sort.\n",
    "https://www.hackerrank.com/challenges/minimum-swaps-2/problem?h_l=interview&playlist_slugs%5B%5D=interview-preparation-kit&playlist_slugs%5B%5D=arrays"
   ]
  },
  {
   "cell_type": "markdown",
   "metadata": {},
   "source": [
    "### Print Array in Spiral Order\n",
    "https://www.youtube.com/watch?v=siKFOI8PNKM&list=PL2_aWCzGMAwLPEZrZIcNEq9ukGWPfLT4A&index=5"
   ]
  },
  {
   "cell_type": "code",
   "execution_count": 33,
   "metadata": {},
   "outputs": [],
   "source": [
    "arr = [[1,  2,  3,  4,  5],\n",
    "       [14, 15, 16, 17, 6],\n",
    "       [13.5, 21, 22, 17.5, 6.5],\n",
    "       [13, 20, 19, 18, 7],\n",
    "       [12, 11, 10, 9, 8],\n",
    "      ]"
   ]
  },
  {
   "cell_type": "code",
   "execution_count": 34,
   "metadata": {},
   "outputs": [],
   "source": [
    "def spiral_print(arr):\n",
    "    t = 0\n",
    "    b = len(arr)\n",
    "    r = len(arr[0])\n",
    "    l = 0\n",
    "    direction = 0\n",
    "    \n",
    "    while (t < b and r > l):\n",
    "        if direction == 0:\n",
    "            for i in range(l, r):\n",
    "                print(arr[t][i])\n",
    "            t += 1\n",
    "            direction = 1\n",
    "        elif direction == 1:\n",
    "            for i in range(t, b):\n",
    "                print(arr[i][r-1])\n",
    "            r -= 1\n",
    "            direction = 2\n",
    "        elif direction == 2:\n",
    "            for i in range(r-1, l-1, -1):\n",
    "                print(arr[b-1][i])\n",
    "            b -= 1\n",
    "            direction = 3\n",
    "        else:\n",
    "            # direction 3\n",
    "            for i in range(b-1, t-1, -1):\n",
    "                print(arr[i][l])\n",
    "            l += 1\n",
    "            direction = 0"
   ]
  },
  {
   "cell_type": "code",
   "execution_count": 35,
   "metadata": {},
   "outputs": [
    {
     "name": "stdout",
     "output_type": "stream",
     "text": [
      "1\n",
      "2\n",
      "3\n",
      "4\n",
      "5\n",
      "6\n",
      "6.5\n",
      "7\n",
      "8\n",
      "9\n",
      "10\n",
      "11\n",
      "12\n",
      "13\n",
      "13.5\n",
      "14\n",
      "15\n",
      "16\n",
      "17\n",
      "17.5\n",
      "18\n",
      "19\n",
      "20\n",
      "21\n",
      "22\n"
     ]
    }
   ],
   "source": [
    "spiral_print(arr)"
   ]
  },
  {
   "cell_type": "code",
   "execution_count": null,
   "metadata": {},
   "outputs": [],
   "source": []
  }
 ],
 "metadata": {
  "kernelspec": {
   "display_name": "Python 3",
   "language": "python",
   "name": "python3"
  },
  "language_info": {
   "codemirror_mode": {
    "name": "ipython",
    "version": 3
   },
   "file_extension": ".py",
   "mimetype": "text/x-python",
   "name": "python",
   "nbconvert_exporter": "python",
   "pygments_lexer": "ipython3",
   "version": "3.7.4"
  }
 },
 "nbformat": 4,
 "nbformat_minor": 2
}
