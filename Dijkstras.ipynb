{
 "cells": [
  {
   "cell_type": "code",
   "execution_count": 51,
   "metadata": {},
   "outputs": [],
   "source": [
    "import heapq\n",
    "import networkx as nx"
   ]
  },
  {
   "cell_type": "code",
   "execution_count": 26,
   "metadata": {},
   "outputs": [],
   "source": [
    "class Node():\n",
    "    \n",
    "    def __init__(self, value):\n",
    "        self.value = value\n",
    "        \n",
    "    def __repr__(self):\n",
    "        return '<Node id {}>: {}'.format(id(self), self.value)\n"
   ]
  },
  {
   "cell_type": "code",
   "execution_count": 33,
   "metadata": {},
   "outputs": [],
   "source": [
    "class Edge():\n",
    "    \n",
    "    def __init__(self, src, dest, weight):\n",
    "        self.src = src\n",
    "        self.dest = dest\n",
    "        self.weight = weight\n",
    "        \n",
    "    def __repr__(self):\n",
    "        return '<Edge {objid}>: {src} --{weight}-> {dest}'.format(\n",
    "            objid=id(self),\n",
    "            src=self.src.value, \n",
    "            weight=self.weight, \n",
    "            dest=self.dest.value)"
   ]
  },
  {
   "cell_type": "code",
   "execution_count": 55,
   "metadata": {},
   "outputs": [],
   "source": [
    "class Graph():\n",
    "    \n",
    "    def __init__(self):\n",
    "        self.edges = {}\n",
    "        \n",
    "    def add_node(self):\n",
    "        pass\n",
    "        \n",
    "    def add_edge(self, edge):\n",
    "        src_edges = self.edges.get(edge.src, [])\n",
    "        src_edges.append((edge.dest, edge.weight))\n",
    "        self.edges[edge.src] = src_edges\n",
    "    \n",
    "    def __repr__(self):\n",
    "        graph_repr = []\n",
    "        for node, edge in edges.items():\n",
    "            graph_repr.append('{} -> {}'.format(node, edge))\n",
    "                         \n",
    "        return '\\n'.join(graph_repr)\n"
   ]
  },
  {
   "cell_type": "code",
   "execution_count": 56,
   "metadata": {},
   "outputs": [],
   "source": [
    "graph = Graph()"
   ]
  },
  {
   "cell_type": "code",
   "execution_count": null,
   "metadata": {},
   "outputs": [],
   "source": [
    "graph.add_edge()"
   ]
  },
  {
   "cell_type": "code",
   "execution_count": null,
   "metadata": {},
   "outputs": [],
   "source": []
  },
  {
   "cell_type": "code",
   "execution_count": null,
   "metadata": {},
   "outputs": [],
   "source": []
  },
  {
   "cell_type": "code",
   "execution_count": null,
   "metadata": {},
   "outputs": [],
   "source": []
  },
  {
   "cell_type": "code",
   "execution_count": null,
   "metadata": {},
   "outputs": [],
   "source": []
  },
  {
   "cell_type": "code",
   "execution_count": 42,
   "metadata": {},
   "outputs": [],
   "source": [
    "pqueue = []\n",
    "data = [(5, 'mynode', 'via_node'),\n",
    "       (7, '4mynode', 'via_node'),\n",
    "       (2, 'mynode', 'via_node'),]"
   ]
  },
  {
   "cell_type": "code",
   "execution_count": 47,
   "metadata": {},
   "outputs": [],
   "source": [
    "for d in data:\n",
    "    heapq.heappush(pqueue, d)"
   ]
  },
  {
   "cell_type": "code",
   "execution_count": 49,
   "metadata": {},
   "outputs": [
    {
     "name": "stdout",
     "output_type": "stream",
     "text": [
      "(2, 'mynode', 'via_node')\n",
      "(5, 'mynode', 'via_node')\n",
      "(7, '4mynode', 'via_node')\n"
     ]
    }
   ],
   "source": [
    "while pqueue:\n",
    "    print(heapq.heappop(pqueue))"
   ]
  },
  {
   "cell_type": "code",
   "execution_count": null,
   "metadata": {},
   "outputs": [],
   "source": []
  }
 ],
 "metadata": {
  "kernelspec": {
   "display_name": "Python 3",
   "language": "python",
   "name": "python3"
  },
  "language_info": {
   "codemirror_mode": {
    "name": "ipython",
    "version": 3
   },
   "file_extension": ".py",
   "mimetype": "text/x-python",
   "name": "python",
   "nbconvert_exporter": "python",
   "pygments_lexer": "ipython3",
   "version": "3.6.6"
  }
 },
 "nbformat": 4,
 "nbformat_minor": 4
}
