{
 "cells": [
  {
   "cell_type": "markdown",
   "metadata": {},
   "source": [
    "##### Check if first string is in the second string.  Can have gaps."
   ]
  },
  {
   "cell_type": "code",
   "execution_count": 45,
   "metadata": {},
   "outputs": [],
   "source": [
    "search = 'hello'\n",
    "content = 'whohowecolryltoestr'"
   ]
  },
  {
   "cell_type": "code",
   "execution_count": 46,
   "metadata": {},
   "outputs": [
    {
     "name": "stdout",
     "output_type": "stream",
     "text": [
      "True\n"
     ]
    }
   ],
   "source": [
    "start = 0\n",
    "match = False\n",
    "for o, s in enumerate(search):\n",
    "    for i in content[start:]:\n",
    "        start += 1\n",
    "        if s == i:\n",
    "            match = True if o == len(search)-1 else False\n",
    "            break\n",
    "print(match)"
   ]
  },
  {
   "cell_type": "markdown",
   "metadata": {},
   "source": [
    "##### Binary search on sorted list."
   ]
  },
  {
   "cell_type": "code",
   "execution_count": 88,
   "metadata": {},
   "outputs": [],
   "source": []
  },
  {
   "cell_type": "code",
   "execution_count": 120,
   "metadata": {},
   "outputs": [
    {
     "name": "stdout",
     "output_type": "stream",
     "text": [
      "-1 14 6 15 3.2\n",
      "6 14 10 8 7\n",
      "10 14 12 4 9\n",
      "12 14 13 2 10\n",
      "False\n"
     ]
    }
   ],
   "source": [
    "#mid = len(items) // 2\n",
    "items = [1, 2, 2.2, 2.5, 3, 3.1, 3.2, 4, 5, 6, 7, 8, 9, 10]\n",
    "left = -1\n",
    "right = len(items)\n",
    "looking_for = 11\n",
    "match = False\n",
    "\n",
    "while left+1 < right:\n",
    "    distance = right - left\n",
    "    mid = left + distance // 2\n",
    "    \n",
    "    print(left, right, mid,distance, items[mid])\n",
    "    if items[mid] == looking_for:\n",
    "        match = True\n",
    "        break\n",
    "    elif items[mid] > looking_for:\n",
    "        right = mid\n",
    "    else:\n",
    "        left = mid\n",
    "        \n",
    "print(match)"
   ]
  },
  {
   "cell_type": "code",
   "execution_count": 104,
   "metadata": {},
   "outputs": [],
   "source": [
    "def binary_search(target, nums):\n",
    "    \"\"\"See if target appears in nums\"\"\"\n",
    "\n",
    "    # We think of floor_index and ceiling_index as \"walls\" around\n",
    "    # the possible positions of our target, so by -1 below we mean\n",
    "    # to start our wall \"to the left\" of the 0th index\n",
    "    # (we *don't* mean \"the last index\")\n",
    "    floor_index = -1\n",
    "    ceiling_index = len(nums)\n",
    "\n",
    "    # If there isn't at least 1 index between floor and ceiling,\n",
    "    # we've run out of guesses and the number must not be present\n",
    "    while floor_index + 1 < ceiling_index:\n",
    "\n",
    "        # Find the index ~halfway between the floor and ceiling\n",
    "        # We use integer division, so we'll never get a \"half index\"\n",
    "        distance = ceiling_index - floor_index\n",
    "        half_distance = distance // 2\n",
    "        guess_index = floor_index + half_distance\n",
    "\n",
    "        guess_value = nums[guess_index]\n",
    "\n",
    "        if guess_value == target:\n",
    "            return True\n",
    "\n",
    "        if guess_value > target:\n",
    "            # Target is to the left, so move ceiling to the left\n",
    "            ceiling_index = guess_index\n",
    "        else:\n",
    "            # Target is to the right, so move floor to the right\n",
    "            floor_index = guess_index\n",
    "\n",
    "    return False"
   ]
  },
  {
   "cell_type": "code",
   "execution_count": 105,
   "metadata": {},
   "outputs": [
    {
     "data": {
      "text/plain": [
       "True"
      ]
     },
     "execution_count": 105,
     "metadata": {},
     "output_type": "execute_result"
    }
   ],
   "source": [
    "binary_search(1, items)"
   ]
  },
  {
   "cell_type": "code",
   "execution_count": null,
   "metadata": {},
   "outputs": [],
   "source": []
  }
 ],
 "metadata": {
  "kernelspec": {
   "display_name": "Python 3",
   "language": "python",
   "name": "python3"
  },
  "language_info": {
   "codemirror_mode": {
    "name": "ipython",
    "version": 3
   },
   "file_extension": ".py",
   "mimetype": "text/x-python",
   "name": "python",
   "nbconvert_exporter": "python",
   "pygments_lexer": "ipython3",
   "version": "3.7.4"
  }
 },
 "nbformat": 4,
 "nbformat_minor": 2
}
