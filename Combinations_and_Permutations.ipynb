{
 "cells": [
  {
   "cell_type": "code",
   "execution_count": 1,
   "metadata": {},
   "outputs": [],
   "source": [
    "import itertools"
   ]
  },
  {
   "cell_type": "code",
   "execution_count": 23,
   "metadata": {},
   "outputs": [],
   "source": [
    "l = [1, 2, 3, 4]"
   ]
  },
  {
   "cell_type": "code",
   "execution_count": 24,
   "metadata": {},
   "outputs": [
    {
     "data": {
      "text/plain": [
       "[(1, 2, 3), (1, 2, 4), (1, 3, 4), (2, 3, 4)]"
      ]
     },
     "execution_count": 24,
     "metadata": {},
     "output_type": "execute_result"
    }
   ],
   "source": [
    "list(itertools.combinations(l, 3))"
   ]
  },
  {
   "cell_type": "code",
   "execution_count": 26,
   "metadata": {},
   "outputs": [
    {
     "data": {
      "text/plain": [
       "[(1, 2),\n",
       " (1, 3),\n",
       " (1, 4),\n",
       " (2, 1),\n",
       " (2, 3),\n",
       " (2, 4),\n",
       " (3, 1),\n",
       " (3, 2),\n",
       " (3, 4),\n",
       " (4, 1),\n",
       " (4, 2),\n",
       " (4, 3)]"
      ]
     },
     "execution_count": 26,
     "metadata": {},
     "output_type": "execute_result"
    }
   ],
   "source": [
    "list(itertools.permutations(l, 2))"
   ]
  },
  {
   "cell_type": "code",
   "execution_count": 29,
   "metadata": {},
   "outputs": [],
   "source": [
    "l = list('cats')"
   ]
  },
  {
   "cell_type": "code",
   "execution_count": 30,
   "metadata": {},
   "outputs": [
    {
     "data": {
      "text/plain": [
       "['c', 'a', 't', 's']"
      ]
     },
     "execution_count": 30,
     "metadata": {},
     "output_type": "execute_result"
    }
   ],
   "source": [
    "l"
   ]
  },
  {
   "cell_type": "code",
   "execution_count": 38,
   "metadata": {},
   "outputs": [
    {
     "name": "stdout",
     "output_type": "stream",
     "text": [
      "0 0 2\n",
      "1 1 2\n",
      "ABC\n",
      "2 1 2\n",
      "ACB\n",
      "1 0 2\n",
      "1 1 2\n",
      "BAC\n",
      "2 1 2\n",
      "BCA\n",
      "2 0 2\n",
      "1 1 2\n",
      "CBA\n",
      "2 1 2\n",
      "CAB\n"
     ]
    }
   ],
   "source": [
    "# Python program to print all permutations with \n",
    "# duplicates allowed \n",
    "\n",
    "def toString(List): \n",
    "    return ''.join(List) \n",
    "\n",
    "# Function to print permutations of string \n",
    "# This function takes three parameters: \n",
    "# 1. String \n",
    "# 2. Starting index of the string \n",
    "# 3. Ending index of the string. \n",
    "def permute(a, l, r): \n",
    "    if l==r:\n",
    "        print(toString(a))\n",
    "    else: \n",
    "        for i in range(l,r+1):\n",
    "            print(i, l, r)\n",
    "            a[l], a[i] = a[i], a[l] \n",
    "            permute(a, l+1, r) \n",
    "            a[l], a[i] = a[i], a[l] # backtrack \n",
    "\n",
    "# Driver program to test the above function \n",
    "string = \"ABC\"\n",
    "n = len(string) \n",
    "a = list(string) \n",
    "permute(a, 0, n-1)"
   ]
  },
  {
   "cell_type": "markdown",
   "metadata": {},
   "source": [
    "### Backtracking algorithm"
   ]
  },
  {
   "cell_type": "markdown",
   "metadata": {},
   "source": [
    "https://codingbat.com/prob/p145416"
   ]
  },
  {
   "cell_type": "code",
   "execution_count": 48,
   "metadata": {},
   "outputs": [],
   "source": [
    "def group_sum(start, nums, target):\n",
    "    \n",
    "    if start >= len(nums):\n",
    "        return target == 0\n",
    "    \n",
    "    if group_sum(start+1, nums, target - nums[start]):\n",
    "        return True\n",
    "    \n",
    "    if group_sum(start+1, nums, target):\n",
    "        return True\n",
    "    \n",
    "    return False"
   ]
  },
  {
   "cell_type": "code",
   "execution_count": 73,
   "metadata": {},
   "outputs": [
    {
     "data": {
      "text/plain": [
       "True"
      ]
     },
     "execution_count": 73,
     "metadata": {},
     "output_type": "execute_result"
    }
   ],
   "source": [
    "group_sum(0, [2, 8, 8], 8)"
   ]
  },
  {
   "cell_type": "markdown",
   "metadata": {},
   "source": [
    "\n",
    "Given an array of ints, is it possible to divide the ints into two groups, so that the sums of the two groups are the same. Every int must be in one group or the other. Write a recursive helper method that takes whatever arguments you like, and make the initial call to your recursive helper from splitArray(). (No loops needed.)\n",
    "\n",
    "\n",
    "splitArray([2, 2]) → true\n",
    "splitArray([2, 3]) → false\n",
    "splitArray([5, 2, 3]) → true"
   ]
  },
  {
   "cell_type": "code",
   "execution_count": 51,
   "metadata": {},
   "outputs": [],
   "source": [
    "# for loop iterative method.\n",
    "def split_array(nums):\n",
    "    for i in range(1, len(nums)):\n",
    "        if sum(nums[:i]) == sum(nums[i:]):\n",
    "            return True\n",
    "    return False"
   ]
  },
  {
   "cell_type": "code",
   "execution_count": 58,
   "metadata": {},
   "outputs": [
    {
     "data": {
      "text/plain": [
       "True"
      ]
     },
     "execution_count": 58,
     "metadata": {},
     "output_type": "execute_result"
    }
   ],
   "source": [
    "split_array([5, 2, 7])"
   ]
  },
  {
   "cell_type": "code",
   "execution_count": 56,
   "metadata": {},
   "outputs": [
    {
     "data": {
      "text/plain": [
       "False"
      ]
     },
     "execution_count": 56,
     "metadata": {},
     "output_type": "execute_result"
    }
   ],
   "source": [
    "split_array([2, 3])"
   ]
  },
  {
   "cell_type": "code",
   "execution_count": 59,
   "metadata": {},
   "outputs": [],
   "source": [
    "def split_array(nums, index):\n",
    "    \n",
    "    if index >= len(nums):\n",
    "        return False\n",
    "    \n",
    "    if sum(nums[:index]) == sum(nums[index:]):\n",
    "        return True\n",
    "    \n",
    "    return split_array(nums, index+1)"
   ]
  },
  {
   "cell_type": "code",
   "execution_count": 67,
   "metadata": {},
   "outputs": [
    {
     "data": {
      "text/plain": [
       "True"
      ]
     },
     "execution_count": 67,
     "metadata": {},
     "output_type": "execute_result"
    }
   ],
   "source": [
    "split_array([2, 2, 4, 8], 1)"
   ]
  },
  {
   "cell_type": "code",
   "execution_count": null,
   "metadata": {},
   "outputs": [],
   "source": [
    "https://codingbat.com/prob/p105136\n",
    "groupSumClump(0, [1, 2, 4, 8, 1], 14) → true\n",
    "groupSumClump(0, [2, 4, 4, 8], 14) → false"
   ]
  },
  {
   "cell_type": "code",
   "execution_count": 78,
   "metadata": {},
   "outputs": [],
   "source": [
    "def group_sum_clump(index, nums, target):\n",
    "    \n",
    "    if index >= len(nums):\n",
    "        return target == 0\n",
    "    \n",
    "    if group_sum_clump(index+1, nums, target):\n",
    "        return True\n",
    "    \n",
    "    if group_sum_clump(index+1, nums, target-nums[index]):\n",
    "        return True\n",
    "    \n",
    "    return False"
   ]
  },
  {
   "cell_type": "code",
   "execution_count": 83,
   "metadata": {},
   "outputs": [
    {
     "data": {
      "text/plain": [
       "True"
      ]
     },
     "execution_count": 83,
     "metadata": {},
     "output_type": "execute_result"
    }
   ],
   "source": [
    "group_sum_clump(0, [1, 2, 4, 8, 3], 3)"
   ]
  },
  {
   "cell_type": "markdown",
   "metadata": {},
   "source": [
    "### Letter Combinations of a Phone Number\n",
    "https://leetcode.com/explore/interview/card/top-interview-questions-medium/109/backtracking/793/"
   ]
  },
  {
   "cell_type": "code",
   "execution_count": 17,
   "metadata": {},
   "outputs": [],
   "source": [
    "num_mapping = [[], [], ['a','b', 'c'], ['d','e','f'], \n",
    "               ['g','h','i'], ['j','k','l'], ['m','n','o'],\n",
    "               ['p','q','r','s'], ['t','u','v'], ['w','x','y','z']]\n",
    "\n",
    "def phone_letter_combos_driver(dialed_nums):\n",
    "    combos = []\n",
    "    \n",
    "    nums = [int(i) for i in list(dialed_nums)]\n",
    "    # Only 2-9 is valid.\n",
    "    nums = [i for i in nums if i >= 2 and i <= 9]\n",
    "    groups = [num_mapping[i] for i in nums]\n",
    "    phone_letter_combos('', groups, 0, combos)\n",
    "    return combos\n",
    "\n",
    "def phone_letter_combos(combo, groups, group_index, combos):\n",
    "    if group_index >= len(groups):\n",
    "        combos.append(combo)\n",
    "        return\n",
    "        \n",
    "    for char in groups[group_index]:\n",
    "        phone_letter_combos(combo+char, groups, group_index+1, combos)\n"
   ]
  },
  {
   "cell_type": "code",
   "execution_count": 24,
   "metadata": {},
   "outputs": [
    {
     "data": {
      "text/plain": [
       "['ad', 'ae', 'af', 'bd', 'be', 'bf', 'cd', 'ce', 'cf']"
      ]
     },
     "execution_count": 24,
     "metadata": {},
     "output_type": "execute_result"
    }
   ],
   "source": [
    "combos = phone_letter_combos_driver('23')\n",
    "combos"
   ]
  },
  {
   "cell_type": "code",
   "execution_count": null,
   "metadata": {},
   "outputs": [],
   "source": []
  }
 ],
 "metadata": {
  "kernelspec": {
   "display_name": "Python 3",
   "language": "python",
   "name": "python3"
  },
  "language_info": {
   "codemirror_mode": {
    "name": "ipython",
    "version": 3
   },
   "file_extension": ".py",
   "mimetype": "text/x-python",
   "name": "python",
   "nbconvert_exporter": "python",
   "pygments_lexer": "ipython3",
   "version": "3.7.4"
  }
 },
 "nbformat": 4,
 "nbformat_minor": 2
}
