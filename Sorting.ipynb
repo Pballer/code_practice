{
 "cells": [
  {
   "cell_type": "markdown",
   "metadata": {},
   "source": [
    "##### Sort two sorted lists.  Could be used in Merge Sort"
   ]
  },
  {
   "cell_type": "code",
   "execution_count": 12,
   "metadata": {},
   "outputs": [],
   "source": [
    "def merge_two_sorted(left, right):\n",
    "    sorted_list = []\n",
    "    left_index = 0\n",
    "    right_index = 0\n",
    "    total_len = len(left) + len(right)\n",
    "    \n",
    "    while len(sorted_list) < total_len:\n",
    "        if left_index == len(left):\n",
    "            sorted_list.extend(right[right_index:])\n",
    "        elif right_index == len(right):\n",
    "            sorted_list.extend(left[left_index:])\n",
    "        else:\n",
    "            if left[left_index] < right[right_index]:\n",
    "                sorted_list.append(left[left_index])\n",
    "                left_index += 1\n",
    "            else:\n",
    "                sorted_list.append(right[right_index])\n",
    "                right_index += 1\n",
    "    return sorted_list"
   ]
  },
  {
   "cell_type": "code",
   "execution_count": 17,
   "metadata": {},
   "outputs": [
    {
     "data": {
      "text/plain": [
       "[2, 5, 6]"
      ]
     },
     "execution_count": 17,
     "metadata": {},
     "output_type": "execute_result"
    }
   ],
   "source": [
    "merge_two_sorted([5], [2,6])"
   ]
  },
  {
   "cell_type": "code",
   "execution_count": 48,
   "metadata": {},
   "outputs": [],
   "source": [
    "# different if/else structure\n",
    "def merge_two_sorted2(left, right):\n",
    "    sorted_list = []\n",
    "    left_index = 0\n",
    "    right_index = 0\n",
    "    total_len = len(left) + len(right)\n",
    "    \n",
    "    while len(sorted_list) < total_len:\n",
    "        if ((left_index < len(left))\n",
    "                and (right_index == len(right)\n",
    "                or left[left_index] < right[right_index])):\n",
    "            sorted_list.append(left[left_index])\n",
    "            left_index += 1\n",
    "        else:\n",
    "            sorted_list.append(right[right_index])\n",
    "            right_index += 1\n",
    "            \n",
    "    return sorted_list"
   ]
  },
  {
   "cell_type": "code",
   "execution_count": 47,
   "metadata": {},
   "outputs": [
    {
     "data": {
      "text/plain": [
       "[1, 4, 4, 8, 10]"
      ]
     },
     "execution_count": 47,
     "metadata": {},
     "output_type": "execute_result"
    }
   ],
   "source": [
    "merge_two_sorted2([1,4], [4,8,10])"
   ]
  },
  {
   "cell_type": "code",
   "execution_count": 49,
   "metadata": {},
   "outputs": [],
   "source": [
    "def merge_sort(unsorted_list):\n",
    "    \n",
    "    if len(unsorted_list) < 2:\n",
    "        return unsorted_list\n",
    "    \n",
    "    mid_index = len(unsorted_list) // 2\n",
    "    left = unsorted_list[:mid_index]\n",
    "    right = unsorted_list[mid_index:]\n",
    "    \n",
    "    sorted_left = merge_sort(left)\n",
    "    sorted_right = merge_sort(right)\n",
    "    \n",
    "    sorted_list = merge_two_sorted2(sorted_left, sorted_right)\n",
    "    return sorted_list"
   ]
  },
  {
   "cell_type": "code",
   "execution_count": 51,
   "metadata": {},
   "outputs": [
    {
     "data": {
      "text/plain": [
       "[-1, 1, 2, 4, 5, 9]"
      ]
     },
     "execution_count": 51,
     "metadata": {},
     "output_type": "execute_result"
    }
   ],
   "source": [
    "merge_sort([4,2,9,5,1,-1])"
   ]
  },
  {
   "cell_type": "markdown",
   "metadata": {},
   "source": [
    "##### Quick sort\n",
    "Average and best case: n log(n) <br>\n",
    "Worst case: n**2"
   ]
  },
  {
   "cell_type": "code",
   "execution_count": null,
   "metadata": {},
   "outputs": [],
   "source": []
  },
  {
   "cell_type": "markdown",
   "metadata": {},
   "source": [
    "#### Insertion sort\n",
    "Worst and average case n**2 <br>\n",
    "Best case O(n) becase list is already sorted. <br>\n",
    "Operation is like sorting a hand of cards.  Move cards from right to left until they are in their correct place."
   ]
  },
  {
   "cell_type": "code",
   "execution_count": 62,
   "metadata": {},
   "outputs": [],
   "source": [
    "insertion_sort_list = [4, 2, 5, 1, 3]"
   ]
  },
  {
   "cell_type": "code",
   "execution_count": 63,
   "metadata": {},
   "outputs": [],
   "source": [
    "def insertion_sort(the_list):\n",
    "    for current_index in range(1, len(the_list)):\n",
    "        for swap_index in range(current_index-1, -1, -1):\n",
    "            if the_list[current_index] < the_list[swap_index]:\n",
    "                the_list[current_index], the_list[swap_index] = the_list[swap_index], the_list[current_index]\n",
    "                current_index = swap_index\n",
    "    return the_list"
   ]
  },
  {
   "cell_type": "code",
   "execution_count": 64,
   "metadata": {},
   "outputs": [
    {
     "data": {
      "text/plain": [
       "[1, 2, 3, 4, 5]"
      ]
     },
     "execution_count": 64,
     "metadata": {},
     "output_type": "execute_result"
    }
   ],
   "source": [
    "insertion_sort(insertion_sort_list)"
   ]
  },
  {
   "cell_type": "code",
   "execution_count": null,
   "metadata": {},
   "outputs": [],
   "source": []
  }
 ],
 "metadata": {
  "kernelspec": {
   "display_name": "Python 3",
   "language": "python",
   "name": "python3"
  },
  "language_info": {
   "codemirror_mode": {
    "name": "ipython",
    "version": 3
   },
   "file_extension": ".py",
   "mimetype": "text/x-python",
   "name": "python",
   "nbconvert_exporter": "python",
   "pygments_lexer": "ipython3",
   "version": "3.7.4"
  }
 },
 "nbformat": 4,
 "nbformat_minor": 2
}
