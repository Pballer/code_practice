{
 "cells": [
  {
   "cell_type": "markdown",
   "metadata": {},
   "source": [
    "##### Sort two sorted lists.  Could be used in Merge Sort"
   ]
  },
  {
   "cell_type": "code",
   "execution_count": 12,
   "metadata": {},
   "outputs": [],
   "source": [
    "def merge_two_sorted(left, right):\n",
    "    sorted_list = []\n",
    "    left_index = 0\n",
    "    right_index = 0\n",
    "    total_len = len(left) + len(right)\n",
    "    \n",
    "    while len(sorted_list) < total_len:\n",
    "        if left_index == len(left):\n",
    "            sorted_list.extend(right[right_index:])\n",
    "        elif right_index == len(right):\n",
    "            sorted_list.extend(left[left_index:])\n",
    "        else:\n",
    "            if left[left_index] < right[right_index]:\n",
    "                sorted_list.append(left[left_index])\n",
    "                left_index += 1\n",
    "            else:\n",
    "                sorted_list.append(right[right_index])\n",
    "                right_index += 1\n",
    "    return sorted_list"
   ]
  },
  {
   "cell_type": "code",
   "execution_count": 17,
   "metadata": {},
   "outputs": [
    {
     "data": {
      "text/plain": [
       "[2, 5, 6]"
      ]
     },
     "execution_count": 17,
     "metadata": {},
     "output_type": "execute_result"
    }
   ],
   "source": [
    "merge_two_sorted([5], [2,6])"
   ]
  },
  {
   "cell_type": "code",
   "execution_count": 48,
   "metadata": {},
   "outputs": [],
   "source": [
    "# different if/else structure\n",
    "def merge_two_sorted2(left, right):\n",
    "    sorted_list = []\n",
    "    left_index = 0\n",
    "    right_index = 0\n",
    "    total_len = len(left) + len(right)\n",
    "    \n",
    "    while len(sorted_list) < total_len:\n",
    "        if ((left_index < len(left))\n",
    "                and (right_index == len(right)\n",
    "                or left[left_index] < right[right_index])):\n",
    "            sorted_list.append(left[left_index])\n",
    "            left_index += 1\n",
    "        else:\n",
    "            sorted_list.append(right[right_index])\n",
    "            right_index += 1\n",
    "            \n",
    "    return sorted_list"
   ]
  },
  {
   "cell_type": "code",
   "execution_count": 47,
   "metadata": {},
   "outputs": [
    {
     "data": {
      "text/plain": [
       "[1, 4, 4, 8, 10]"
      ]
     },
     "execution_count": 47,
     "metadata": {},
     "output_type": "execute_result"
    }
   ],
   "source": [
    "merge_two_sorted2([1,4], [4,8,10])"
   ]
  },
  {
   "cell_type": "code",
   "execution_count": 49,
   "metadata": {},
   "outputs": [],
   "source": [
    "def merge_sort(unsorted_list):\n",
    "    \n",
    "    if len(unsorted_list) < 2:\n",
    "        return unsorted_list\n",
    "    \n",
    "    mid_index = len(unsorted_list) // 2\n",
    "    left = unsorted_list[:mid_index]\n",
    "    right = unsorted_list[mid_index:]\n",
    "    \n",
    "    sorted_left = merge_sort(left)\n",
    "    sorted_right = merge_sort(right)\n",
    "    \n",
    "    sorted_list = merge_two_sorted2(sorted_left, sorted_right)\n",
    "    return sorted_list"
   ]
  },
  {
   "cell_type": "code",
   "execution_count": 51,
   "metadata": {},
   "outputs": [
    {
     "data": {
      "text/plain": [
       "[-1, 1, 2, 4, 5, 9]"
      ]
     },
     "execution_count": 51,
     "metadata": {},
     "output_type": "execute_result"
    }
   ],
   "source": [
    "merge_sort([4,2,9,5,1,-1])"
   ]
  },
  {
   "cell_type": "markdown",
   "metadata": {},
   "source": [
    "##### Quick sort\n",
    "Average and best case: n log(n) <br>\n",
    "Worst case: n**2"
   ]
  },
  {
   "cell_type": "code",
   "execution_count": null,
   "metadata": {},
   "outputs": [],
   "source": []
  },
  {
   "cell_type": "markdown",
   "metadata": {},
   "source": [
    "#### Insertion sort\n",
    "Worst and average case n**2 <br>\n",
    "Best case O(n) becase list is already sorted. <br>\n",
    "Operation is like sorting a hand of cards.  Move cards from right to left until they are in their correct place."
   ]
  },
  {
   "cell_type": "code",
   "execution_count": 62,
   "metadata": {},
   "outputs": [],
   "source": [
    "insertion_sort_list = [4, 2, 5, 1, 3]"
   ]
  },
  {
   "cell_type": "code",
   "execution_count": 63,
   "metadata": {},
   "outputs": [],
   "source": [
    "def insertion_sort(the_list):\n",
    "    for current_index in range(1, len(the_list)):\n",
    "        for swap_index in range(current_index-1, -1, -1):\n",
    "            if the_list[current_index] < the_list[swap_index]:\n",
    "                the_list[current_index], the_list[swap_index] = the_list[swap_index], the_list[current_index]\n",
    "                current_index = swap_index\n",
    "    return the_list"
   ]
  },
  {
   "cell_type": "code",
   "execution_count": 64,
   "metadata": {},
   "outputs": [
    {
     "data": {
      "text/plain": [
       "[1, 2, 3, 4, 5]"
      ]
     },
     "execution_count": 64,
     "metadata": {},
     "output_type": "execute_result"
    }
   ],
   "source": [
    "insertion_sort(insertion_sort_list)"
   ]
  },
  {
   "cell_type": "markdown",
   "metadata": {},
   "source": [
    "#### counting sort \n",
    "https://www.geeksforgeeks.org/counting-sort/"
   ]
  },
  {
   "cell_type": "code",
   "execution_count": null,
   "metadata": {},
   "outputs": [],
   "source": [
    "# The main function that sort the given string arr[] in \n",
    "# alphabetical order \n",
    "def countSort(arr): \n",
    "\n",
    "    # The output character array that will have sorted arr \n",
    "    output = [0 for i in range(256)] \n",
    "\n",
    "    # Create a count array to store count of inidividul \n",
    "    # characters and initialize count array as 0 \n",
    "    count = [0 for i in range(256)] \n",
    "\n",
    "    # For storing the resulting answer since the \n",
    "    # string is immutable \n",
    "    ans = [\"\" for _ in arr] \n",
    "\n",
    "    # Store count of each character \n",
    "    for i in arr: \n",
    "        count[ord(i)] += 1\n",
    "\n",
    "    # Change count[i] so that count[i] now contains actual \n",
    "    # position of this character in output array \n",
    "    for i in range(256): \n",
    "        count[i] += count[i-1] \n",
    "\n",
    "    # Build the output character array \n",
    "    for i in range(len(arr)): \n",
    "        output[count[ord(arr[i])]-1] = arr[i] \n",
    "        count[ord(arr[i])] -= 1\n",
    "\n",
    "    # Copy the output array to arr, so that arr now \n",
    "    # contains sorted characters \n",
    "    for i in range(len(arr)): \n",
    "        ans[i] = output[i] \n",
    "    return ans \n",
    "\n",
    "# Driver program to test above function \n",
    "arr = \"geeksforgeeks\"\n",
    "ans = countSort(arr) \n",
    "print \"Sorted character array is %s\" %(\"\".join(ans))"
   ]
  },
  {
   "cell_type": "markdown",
   "metadata": {},
   "source": [
    "##### My counting sort "
   ]
  },
  {
   "cell_type": "code",
   "execution_count": 21,
   "metadata": {},
   "outputs": [],
   "source": [
    "# my counting sort example for 0-9.\n",
    "input_array = [4, 2, 6, 1, 7, 4, 3, 2, 2, 2, 2, 5, 1, 0, 9, 0, 9, 4]"
   ]
  },
  {
   "cell_type": "code",
   "execution_count": 22,
   "metadata": {},
   "outputs": [],
   "source": [
    "def counting_sort(input_array, input_range):\n",
    "    # init counts to 0 for range of k.\n",
    "    counts = [0 for i in range(input_range)]\n",
    "    \n",
    "    # Count occurrence.\n",
    "    for i in input_array:\n",
    "        counts[i] += 1\n",
    "        \n",
    "    # Rolling sum of counts.\n",
    "    for i in range(1, len(counts)):\n",
    "        counts[i] += counts[i-1]\n",
    "        \n",
    "    sorted_list = [None for i in range(len(input_array))]\n",
    "    \n",
    "    for i in input_array:\n",
    "        index = counts[i]-1\n",
    "        sorted_list[index] = i\n",
    "        counts[i] -= 1\n",
    "        \n",
    "    return sorted_list"
   ]
  },
  {
   "cell_type": "code",
   "execution_count": 25,
   "metadata": {},
   "outputs": [
    {
     "data": {
      "text/plain": [
       "[0, 0, 1, 1, 2, 2, 2, 2, 2, 3, 4, 4, 4, 5, 6, 7, 9, 9]"
      ]
     },
     "execution_count": 25,
     "metadata": {},
     "output_type": "execute_result"
    }
   ],
   "source": [
    "counting_sort(input_array, 10)"
   ]
  },
  {
   "cell_type": "code",
   "execution_count": 20,
   "metadata": {},
   "outputs": [],
   "source": [
    "# k is range of input.  Ex: 0-9\n",
    "# O(n+k) time and space\n",
    "# It can run in linear time unless k is very large."
   ]
  },
  {
   "cell_type": "markdown",
   "metadata": {},
   "source": [
    "Binary search on sorted list.  Determine how many occurrences there are of a specific number.<br>\n",
    "https://www.youtube.com/watch?v=pLT_9jwaPLs&list=PL2_aWCzGMAwLPEZrZIcNEq9ukGWPfLT4A&index=2"
   ]
  },
  {
   "cell_type": "code",
   "execution_count": 68,
   "metadata": {},
   "outputs": [],
   "source": [
    "sorted_nums = sorted([1, 2, 2, 2, 3, 3, 5, 10, 11, 11, 12, 13])"
   ]
  },
  {
   "cell_type": "code",
   "execution_count": 73,
   "metadata": {},
   "outputs": [],
   "source": [
    "def binary_search(nums, target, search_high=True):\n",
    "    high = len(nums)\n",
    "    low = -1\n",
    "    mid = len(nums) // 2\n",
    "    target_index = None\n",
    "    \n",
    "    while high > low+1:\n",
    "        if nums[mid] == target:\n",
    "            target_index = mid\n",
    "        \n",
    "        if nums[mid] < target or (target_index and search_high):\n",
    "            low = mid\n",
    "            mid += (high - low) // 2\n",
    "        else:\n",
    "            high = mid\n",
    "            mid -= (high - low) // 2\n",
    "            \n",
    "    return target_index"
   ]
  },
  {
   "cell_type": "code",
   "execution_count": 83,
   "metadata": {},
   "outputs": [],
   "source": [
    "def find_occurrences(sorted_nums, target):\n",
    "    index_high = binary_search(sorted_nums, target, search_high=True)\n",
    "    index_low = binary_search(sorted_nums, target, search_high=False)\n",
    "    return sorted_nums[index_low:index_high+1]"
   ]
  },
  {
   "cell_type": "code",
   "execution_count": 84,
   "metadata": {},
   "outputs": [
    {
     "data": {
      "text/plain": [
       "[11, 11]"
      ]
     },
     "execution_count": 84,
     "metadata": {},
     "output_type": "execute_result"
    }
   ],
   "source": [
    "# In a sorted list, the number of occurences can be found by running binary search twice.\n",
    "# Once to find top index and again to find the lower index.  \n",
    "# This will run in O(log(n))\n",
    "# This is faster than linear search at O(n).\n",
    "find_occurrences(sorted_nums, 11)"
   ]
  },
  {
   "cell_type": "code",
   "execution_count": 86,
   "metadata": {},
   "outputs": [
    {
     "data": {
      "text/plain": [
       "[13]"
      ]
     },
     "execution_count": 86,
     "metadata": {},
     "output_type": "execute_result"
    }
   ],
   "source": [
    "find_occurrences(sorted_nums, 13)"
   ]
  },
  {
   "cell_type": "code",
   "execution_count": null,
   "metadata": {},
   "outputs": [],
   "source": []
  }
 ],
 "metadata": {
  "kernelspec": {
   "display_name": "Python 3",
   "language": "python",
   "name": "python3"
  },
  "language_info": {
   "codemirror_mode": {
    "name": "ipython",
    "version": 3
   },
   "file_extension": ".py",
   "mimetype": "text/x-python",
   "name": "python",
   "nbconvert_exporter": "python",
   "pygments_lexer": "ipython3",
   "version": "3.7.4"
  }
 },
 "nbformat": 4,
 "nbformat_minor": 2
}
