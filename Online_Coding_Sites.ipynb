{
 "cells": [
  {
   "cell_type": "code",
   "execution_count": 32,
   "metadata": {},
   "outputs": [],
   "source": [
    "import numpy as np\n",
    "import matplotlib.pyplot as plt"
   ]
  },
  {
   "cell_type": "markdown",
   "metadata": {},
   "source": [
    "https://codingbat.com/prob/p126332\n",
    "\n",
    "Given an array of non-empty strings, create and return a Map<String, String> as follows: for each string add its first character as a key with its last character as the value.\n",
    "\n",
    "\n",
    "pairs([\"code\", \"bug\"]) → {\"b\": \"g\", \"c\": \"e\"}\n",
    "pairs([\"man\", \"moon\", \"main\"]) → {\"m\": \"n\"}\n",
    "pairs([\"man\", \"moon\", \"good\", \"night\"]) → {\"g\": \"d\", \"m\": \"n\", \"n\": \"t\"}"
   ]
  },
  {
   "cell_type": "code",
   "execution_count": 4,
   "metadata": {},
   "outputs": [],
   "source": [
    "def map_first_to_last(word_list):\n",
    "    letter_map = {word[0]: word[-1] for word in word_list}\n",
    "    return letter_map"
   ]
  },
  {
   "cell_type": "code",
   "execution_count": 7,
   "metadata": {},
   "outputs": [
    {
     "data": {
      "text/plain": [
       "{'c': 'e', 'b': 'g'}"
      ]
     },
     "execution_count": 7,
     "metadata": {},
     "output_type": "execute_result"
    }
   ],
   "source": [
    "map_first_to_last(['code', 'bug'])"
   ]
  },
  {
   "cell_type": "code",
   "execution_count": 5,
   "metadata": {},
   "outputs": [
    {
     "data": {
      "text/plain": [
       "{'m': 'n'}"
      ]
     },
     "execution_count": 5,
     "metadata": {},
     "output_type": "execute_result"
    }
   ],
   "source": [
    "map_first_to_last([\"man\", \"moon\", \"main\"])"
   ]
  },
  {
   "cell_type": "code",
   "execution_count": 6,
   "metadata": {},
   "outputs": [
    {
     "data": {
      "text/plain": [
       "{'m': 'n', 'g': 'd', 'n': 't'}"
      ]
     },
     "execution_count": 6,
     "metadata": {},
     "output_type": "execute_result"
    }
   ],
   "source": [
    "map_first_to_last([\"man\", \"moon\", \"good\", \"night\"])"
   ]
  },
  {
   "cell_type": "markdown",
   "metadata": {},
   "source": [
    "##### Max profit in stock prices\n",
    "https://www.interviewcake.com/question/python3/stock-price"
   ]
  },
  {
   "cell_type": "code",
   "execution_count": 40,
   "metadata": {},
   "outputs": [],
   "source": [
    "time_steps = 20\n",
    "stock_prices = np.random.randint(10, 300, time_steps)\n",
    "time = np.linspace(1, time_steps, time_steps, dtype=int)"
   ]
  },
  {
   "cell_type": "code",
   "execution_count": 34,
   "metadata": {},
   "outputs": [],
   "source": [
    "#stock_prices = [10, 7, 20, 8, 11, 9]\n",
    "def find_max_profit(stock_prices):\n",
    "    max_profit = 0\n",
    "    min_price = stock_prices[0]\n",
    "    \n",
    "    for curr_price in stock_prices:\n",
    "        min_price = min(min_price, curr_price)\n",
    "        profit = curr_price - min_price\n",
    "        max_profit = max(max_profit, profit)\n",
    "        \n",
    "    return max_profit"
   ]
  },
  {
   "cell_type": "code",
   "execution_count": 35,
   "metadata": {},
   "outputs": [
    {
     "data": {
      "text/plain": [
       "269"
      ]
     },
     "execution_count": 35,
     "metadata": {},
     "output_type": "execute_result"
    }
   ],
   "source": [
    "find_max_profit(stock_prices)"
   ]
  },
  {
   "cell_type": "code",
   "execution_count": 43,
   "metadata": {},
   "outputs": [
    {
     "data": {
      "text/plain": [
       "[<matplotlib.lines.Line2D at 0x1283cec10>]"
      ]
     },
     "execution_count": 43,
     "metadata": {},
     "output_type": "execute_result"
    }
   ],
   "source": [
    "plt.plot(time, stock_prices)"
   ]
  },
  {
   "cell_type": "code",
   "execution_count": null,
   "metadata": {},
   "outputs": [],
   "source": [
    "Count bunny ears\n",
    "https://codingbat.com/prob/p107330\n",
    "bunnyEars2(0) → 0\n",
    "bunnyEars2(1) → 2\n",
    "bunnyEars2(2) → 5"
   ]
  },
  {
   "cell_type": "code",
   "execution_count": 59,
   "metadata": {},
   "outputs": [],
   "source": [
    "def bunny_ears(num_bunnies):\n",
    "    if num_bunnies <= 0:\n",
    "        return 0\n",
    "    \n",
    "    num_ears = 2 if num_bunnies % 2 else 3\n",
    "    return num_ears + bunny_ears(num_bunnies - 1)"
   ]
  },
  {
   "cell_type": "code",
   "execution_count": 64,
   "metadata": {},
   "outputs": [
    {
     "data": {
      "text/plain": [
       "7"
      ]
     },
     "execution_count": 64,
     "metadata": {},
     "output_type": "execute_result"
    }
   ],
   "source": [
    "bunny_ears(3)"
   ]
  },
  {
   "cell_type": "code",
   "execution_count": null,
   "metadata": {},
   "outputs": [],
   "source": [
    "count num blocks to make a triangle \n",
    "https://codingbat.com/prob/p194781\n",
    "triangle(0) → 0\n",
    "triangle(1) → 1\n",
    "triangle(2) → 3"
   ]
  },
  {
   "cell_type": "code",
   "execution_count": 65,
   "metadata": {},
   "outputs": [],
   "source": [
    "def triangle(num_rows):\n",
    "    if num_rows <= 0:\n",
    "        return 0\n",
    "    \n",
    "    return num_rows + triangle(num_rows - 1)"
   ]
  },
  {
   "cell_type": "code",
   "execution_count": 71,
   "metadata": {},
   "outputs": [
    {
     "data": {
      "text/plain": [
       "6"
      ]
     },
     "execution_count": 71,
     "metadata": {},
     "output_type": "execute_result"
    }
   ],
   "source": [
    "triangle(3)"
   ]
  },
  {
   "cell_type": "markdown",
   "metadata": {},
   "source": [
    "https://leetcode.com/problems/plus-one/"
   ]
  },
  {
   "cell_type": "code",
   "execution_count": 29,
   "metadata": {},
   "outputs": [],
   "source": [
    "arr = [1, 2, 3]\n",
    "# expected [1, 2, 3]"
   ]
  },
  {
   "cell_type": "code",
   "execution_count": 30,
   "metadata": {},
   "outputs": [],
   "source": [
    "def plus_one(arr):\n",
    "    carry = 0\n",
    "    arr[-1] += 1\n",
    "    for i in range(len(arr)-1, -1, -1):\n",
    "        num = arr[i] + carry\n",
    "        carry = num // 10\n",
    "        arr[i] = num % 10\n",
    "    \n",
    "    if carry:\n",
    "        arr.insert(0, carry)\n",
    "        \n",
    "    return arr"
   ]
  },
  {
   "cell_type": "code",
   "execution_count": 32,
   "metadata": {},
   "outputs": [
    {
     "data": {
      "text/plain": [
       "[1, 2, 4]"
      ]
     },
     "execution_count": 32,
     "metadata": {},
     "output_type": "execute_result"
    }
   ],
   "source": [
    "plus_one([1, 2, 3])"
   ]
  },
  {
   "cell_type": "code",
   "execution_count": 33,
   "metadata": {},
   "outputs": [
    {
     "data": {
      "text/plain": [
       "[1, 0, 0, 0]"
      ]
     },
     "execution_count": 33,
     "metadata": {},
     "output_type": "execute_result"
    }
   ],
   "source": [
    "plus_one([9, 9, 9])"
   ]
  },
  {
   "cell_type": "code",
   "execution_count": null,
   "metadata": {},
   "outputs": [],
   "source": []
  },
  {
   "cell_type": "markdown",
   "metadata": {},
   "source": [
    "#### Max sum subarray\n",
    "https://leetcode.com/problems/maximum-subarray/\n",
    "<br>\n",
    "Answer: https://www.youtube.com/watch?v=ohHWQf1HDfU&list=PL2_aWCzGMAwLPEZrZIcNEq9ukGWPfLT4A&index=15"
   ]
  },
  {
   "cell_type": "code",
   "execution_count": 18,
   "metadata": {},
   "outputs": [],
   "source": [
    "nums = [-2, 1, -3, 4, -1, 2, 1, -5, 4]"
   ]
  },
  {
   "cell_type": "markdown",
   "metadata": {},
   "source": [
    "answer: [4,-1,2,1]  sum: 6"
   ]
  },
  {
   "cell_type": "code",
   "execution_count": 30,
   "metadata": {},
   "outputs": [],
   "source": [
    "def max_sum_subarray(nums):\n",
    "    answer = curr_sum = 0\n",
    "    \n",
    "    for num in nums:\n",
    "        if num + curr_sum > 0:\n",
    "            curr_sum += num\n",
    "        else:\n",
    "            curr_sum = 0\n",
    "        answer = max(answer, curr_sum)\n",
    "        \n",
    "    # all negative\n",
    "    if answer == 0:\n",
    "        answer = max(nums)\n",
    "        \n",
    "    return answer"
   ]
  },
  {
   "cell_type": "code",
   "execution_count": 31,
   "metadata": {},
   "outputs": [
    {
     "data": {
      "text/plain": [
       "6"
      ]
     },
     "execution_count": 31,
     "metadata": {},
     "output_type": "execute_result"
    }
   ],
   "source": [
    "max_sum_subarray(nums)"
   ]
  },
  {
   "cell_type": "code",
   "execution_count": 32,
   "metadata": {},
   "outputs": [],
   "source": [
    "all_negative = list(range(-1, -10, -1))"
   ]
  },
  {
   "cell_type": "code",
   "execution_count": 33,
   "metadata": {},
   "outputs": [
    {
     "data": {
      "text/plain": [
       "-1"
      ]
     },
     "execution_count": 33,
     "metadata": {},
     "output_type": "execute_result"
    }
   ],
   "source": [
    "max_sum_subarray(all_negative)"
   ]
  },
  {
   "cell_type": "code",
   "execution_count": 8,
   "metadata": {},
   "outputs": [],
   "source": [
    "nums = [1, 2, 3, 2, 4, 2, 2] # is 2 next to a 2?"
   ]
  },
  {
   "cell_type": "code",
   "execution_count": 9,
   "metadata": {},
   "outputs": [],
   "source": [
    "def neighbor_twos(nums):\n",
    "    found_two = False\n",
    "    two_twos = False\n",
    "    for num in nums:\n",
    "        if num == 2:\n",
    "            if found_two:\n",
    "                two_twos = True\n",
    "            found_two = True\n",
    "        else:\n",
    "            found_two = False\n",
    "    return two_twos"
   ]
  },
  {
   "cell_type": "code",
   "execution_count": 10,
   "metadata": {},
   "outputs": [
    {
     "data": {
      "text/plain": [
       "True"
      ]
     },
     "execution_count": 10,
     "metadata": {},
     "output_type": "execute_result"
    }
   ],
   "source": [
    "neighbor_twos(nums)"
   ]
  },
  {
   "cell_type": "markdown",
   "metadata": {},
   "source": [
    "### Google Question: word extensions"
   ]
  },
  {
   "cell_type": "code",
   "execution_count": 102,
   "metadata": {},
   "outputs": [],
   "source": [
    "# extension def: repeating char of 3 or more.\n",
    "# heeeello has extension from 1, 4\n",
    "# heeelllooo has extensions 3 "
   ]
  },
  {
   "cell_type": "code",
   "execution_count": 98,
   "metadata": {},
   "outputs": [],
   "source": [
    "def find_word_extensions(word):\n",
    "    extensions = []\n",
    "    start = 0\n",
    "    end = 0\n",
    "    for i in range(1, len(word)):\n",
    "        if word[i] == word[i-1]:\n",
    "            if not start:\n",
    "                start = i-1\n",
    "            end = i\n",
    "        else:\n",
    "            if (end-start)+1 >= 3:\n",
    "                extensions.append((start, end))\n",
    "            start = 0\n",
    "            end = 0\n",
    "    \n",
    "    if (end-start)+1 >= 3:\n",
    "        extensions.append((start, end))\n",
    "    \n",
    "    return extensions"
   ]
  },
  {
   "cell_type": "code",
   "execution_count": 99,
   "metadata": {},
   "outputs": [
    {
     "data": {
      "text/plain": [
       "[(2, 5), (6, 8), (9, 11)]"
      ]
     },
     "execution_count": 99,
     "metadata": {},
     "output_type": "execute_result"
    }
   ],
   "source": [
    "word = 'hheeeelllooo' # heeeeello\n",
    "find_word_extensions(word)"
   ]
  },
  {
   "cell_type": "markdown",
   "metadata": {},
   "source": [
    "### Amazon Question"
   ]
  },
  {
   "cell_type": "code",
   "execution_count": 101,
   "metadata": {},
   "outputs": [],
   "source": [
    "# Merge intervals that overlap.\n",
    "# Input: [[1, 5], [3, 8], [10, 15]]\n",
    "# Output: [[1, 8], [10, 15]]"
   ]
  },
  {
   "cell_type": "code",
   "execution_count": 111,
   "metadata": {},
   "outputs": [],
   "source": [
    "intervals = [[1, 5], [3, 4], [10, 15]]"
   ]
  },
  {
   "cell_type": "code",
   "execution_count": 112,
   "metadata": {},
   "outputs": [],
   "source": [
    "def merge_intervals(intervals):\n",
    "    \n",
    "    if not intervals or len(intervals[0]) != 2:\n",
    "        return []\n",
    "    \n",
    "    intervals = sorted(intervals)\n",
    "    merged_intervals = []\n",
    "    start = intervals[0][0]\n",
    "    end = intervals[0][1]\n",
    "    \n",
    "    for curr_start, curr_end in intervals[1:]:\n",
    "        if curr_start >= start and curr_start <= end:\n",
    "            if curr_end > end:\n",
    "                end = curr_end\n",
    "        else:\n",
    "            merged_intervals.append([start, end])\n",
    "            start = curr_start\n",
    "            end = curr_end\n",
    "            \n",
    "    # Add final interval \n",
    "    merged_intervals.append([start, end])\n",
    "        \n",
    "    return merged_intervals"
   ]
  },
  {
   "cell_type": "code",
   "execution_count": 126,
   "metadata": {},
   "outputs": [
    {
     "data": {
      "text/plain": [
       "[[1, 5], [10, 15]]"
      ]
     },
     "execution_count": 126,
     "metadata": {},
     "output_type": "execute_result"
    }
   ],
   "source": [
    "# Sort requires O(nlogn) time.  The main logic loop is O(n) time.  Overall O(nlogn).\n",
    "# Space O(n) due to new merged_intervals list.\n",
    "merge_intervals(intervals)"
   ]
  },
  {
   "cell_type": "markdown",
   "metadata": {},
   "source": [
    "### Recursive sum example"
   ]
  },
  {
   "cell_type": "code",
   "execution_count": 78,
   "metadata": {},
   "outputs": [
    {
     "data": {
      "text/plain": [
       "45"
      ]
     },
     "execution_count": 78,
     "metadata": {},
     "output_type": "execute_result"
    }
   ],
   "source": [
    "# Sum without looping\n",
    "nums = list(range(10))\n",
    "sum(nums)"
   ]
  },
  {
   "cell_type": "code",
   "execution_count": 86,
   "metadata": {},
   "outputs": [],
   "source": [
    "# sum and triple sum any number that is a multiple of 3. \n",
    "def recursive_sum(index, nums, total):\n",
    "    if index >= len(nums):\n",
    "        return total\n",
    "    \n",
    "    if nums[index] % 3 == 0:\n",
    "        return recursive_sum(index+1, nums, total+(nums[index]*3))\n",
    "    \n",
    "    return recursive_sum(index+1, nums, total+nums[index])"
   ]
  },
  {
   "cell_type": "code",
   "execution_count": 87,
   "metadata": {},
   "outputs": [
    {
     "data": {
      "text/plain": [
       "81"
      ]
     },
     "execution_count": 87,
     "metadata": {},
     "output_type": "execute_result"
    }
   ],
   "source": [
    "recursive_sum(0, nums, 0)"
   ]
  },
  {
   "cell_type": "code",
   "execution_count": null,
   "metadata": {},
   "outputs": [],
   "source": []
  }
 ],
 "metadata": {
  "kernelspec": {
   "display_name": "Python 3",
   "language": "python",
   "name": "python3"
  },
  "language_info": {
   "codemirror_mode": {
    "name": "ipython",
    "version": 3
   },
   "file_extension": ".py",
   "mimetype": "text/x-python",
   "name": "python",
   "nbconvert_exporter": "python",
   "pygments_lexer": "ipython3",
   "version": "3.7.4"
  }
 },
 "nbformat": 4,
 "nbformat_minor": 2
}
