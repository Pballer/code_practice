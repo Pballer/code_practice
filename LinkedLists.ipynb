{
 "cells": [
  {
   "cell_type": "markdown",
   "metadata": {},
   "source": [
    "##### Single Link"
   ]
  },
  {
   "cell_type": "code",
   "execution_count": 5,
   "metadata": {},
   "outputs": [],
   "source": [
    "class Node:\n",
    "    \n",
    "    def __init__(self, value):\n",
    "        self.value = value\n",
    "        self.next = None\n",
    "        \n",
    "    def __repr__(self):\n",
    "        return str(self.value)"
   ]
  },
  {
   "cell_type": "code",
   "execution_count": 13,
   "metadata": {},
   "outputs": [],
   "source": [
    "class LinkedList:\n",
    "    \n",
    "    def __init__(self):\n",
    "        self.head = None\n",
    "        self.last = None\n",
    "        \n",
    "    def add(self, value):\n",
    "        \n",
    "        if not self.head:\n",
    "            self.head = Node(value)\n",
    "            self.last = self.head\n",
    "            return\n",
    "        \n",
    "        next_node = Node(value)\n",
    "        self.last.next = next_node\n",
    "        self.last = next_node\n",
    "        \n",
    "    def remove(self, value):\n",
    "        ''' Remove node equal to value. '''\n",
    "        \n",
    "        if not self.head:\n",
    "            return False\n",
    "        \n",
    "        if self.head.value == value:\n",
    "            self.head = self.head.next\n",
    "            return True\n",
    "        \n",
    "        node = self.head\n",
    "        prev_node = None\n",
    "        \n",
    "        while node:\n",
    "            if node.value == value:\n",
    "                prev_node.next = node.next\n",
    "                return True\n",
    "                \n",
    "            prev_node = node\n",
    "            node = node.next\n",
    "            \n",
    "        return False\n",
    "        \n",
    "    #def _remove(node)\n",
    "        \n",
    "    def __iter__(self):\n",
    "        self.iter_node = self.head\n",
    "        return self\n",
    "    \n",
    "    def __next__(self):\n",
    "        \n",
    "        if self.iter_node is None:\n",
    "            raise StopIteration\n",
    "            \n",
    "        value = self.iter_node.value\n",
    "        self.iter_node = self.iter_node.next\n",
    "        return value\n",
    "    \n",
    "    def __len__(self):\n",
    "        count = 0\n",
    "        for i in self:\n",
    "            count += 1\n",
    "        return count\n",
    "        \n",
    "    def __repr__(self):\n",
    "        return ' --> '.join(map(str, self))\n",
    "        \n",
    "    def display(self):\n",
    "        self._display_in_order(self.head)\n",
    "    \n",
    "    def _display_in_order(self, node):\n",
    "        if node:\n",
    "            print(node.value)\n",
    "            self._display_in_order(node.next)\n",
    "        \n",
    "    def find_xth_node(self, x):\n",
    "        '''Find and return node in Xth position in the list.'''        \n",
    "        node = self.head\n",
    "        counter = 0\n",
    "        \n",
    "        while node:\n",
    "            if counter == x:\n",
    "                return node.value\n",
    "            counter += 1\n",
    "            node = node.next\n",
    "            \n",
    "    def reverse(self):\n",
    "        self.last = self.head\n",
    "        self._reverse_helper(self.head)\n",
    "        \n",
    "    def _reverse_helper(self, node, prev_node=None):\n",
    "        \n",
    "        if not node:\n",
    "            self.head = prev_node\n",
    "            return\n",
    "        \n",
    "        self._reverse_helper(node.next, node)\n",
    "        node.next = prev_node\n",
    "        \n",
    "    def reverse_iterative(self):\n",
    "        self.last = self.head\n",
    "        node = self.head\n",
    "        prev_node = None\n",
    "        \n",
    "        while node:\n",
    "            # Get reference to pre-reverse next.\n",
    "            next_node = node.next\n",
    "            # Set next to previous node to reverse.\n",
    "            node.next = prev_node\n",
    "            \n",
    "            \n",
    "            prev_node = node\n",
    "            node = next_node\n",
    "        \n",
    "        self.head = prev_node\n",
    "        \n",
    "    \n",
    "    def reverse_print(self):        \n",
    "        self._reverse_print(self.head)\n",
    "    \n",
    "    def _reverse_print(self, node):\n",
    "        \n",
    "        if not node:\n",
    "            return\n",
    "        \n",
    "        self._reverse_print(node.next)\n",
    "        print(node.value)\n",
    "        \n",
    "    def print_using_recursion(self):\n",
    "        self._print_using_recursion(self.head)\n",
    "        \n",
    "    def _print_using_recursion(self, node):\n",
    "        \n",
    "        if not node:\n",
    "            return\n",
    "        print(node.value)\n",
    "        self._print_using_recursion(node.next)"
   ]
  },
  {
   "cell_type": "code",
   "execution_count": 14,
   "metadata": {},
   "outputs": [
    {
     "name": "stdout",
     "output_type": "stream",
     "text": [
      "3\n",
      "4\n",
      "5\n",
      "6\n"
     ]
    }
   ],
   "source": [
    "my_list = LinkedList()\n",
    "my_list.add(3)\n",
    "my_list.add(4)\n",
    "my_list.add(5)\n",
    "my_list.add(6)\n",
    "my_list.display()"
   ]
  },
  {
   "cell_type": "code",
   "execution_count": 15,
   "metadata": {},
   "outputs": [
    {
     "name": "stdout",
     "output_type": "stream",
     "text": [
      "6\n",
      "5\n",
      "4\n",
      "3\n"
     ]
    }
   ],
   "source": [
    "my_list.reverse_print()"
   ]
  },
  {
   "cell_type": "code",
   "execution_count": 16,
   "metadata": {},
   "outputs": [
    {
     "name": "stdout",
     "output_type": "stream",
     "text": [
      "3\n",
      "4\n",
      "5\n",
      "6\n"
     ]
    }
   ],
   "source": [
    "my_list.print_using_recursion()"
   ]
  },
  {
   "cell_type": "code",
   "execution_count": 8,
   "metadata": {},
   "outputs": [
    {
     "name": "stdout",
     "output_type": "stream",
     "text": [
      "3\n",
      "4\n",
      "5\n",
      "6\n"
     ]
    }
   ],
   "source": [
    "for i in my_list:\n",
    "    print(i)"
   ]
  },
  {
   "cell_type": "code",
   "execution_count": 8,
   "metadata": {},
   "outputs": [
    {
     "data": {
      "text/plain": [
       "4"
      ]
     },
     "execution_count": 8,
     "metadata": {},
     "output_type": "execute_result"
    }
   ],
   "source": [
    "len(my_list)"
   ]
  },
  {
   "cell_type": "code",
   "execution_count": 9,
   "metadata": {},
   "outputs": [
    {
     "data": {
      "text/plain": [
       "3 --> 4 --> 5 --> 6"
      ]
     },
     "execution_count": 9,
     "metadata": {},
     "output_type": "execute_result"
    }
   ],
   "source": [
    "my_list"
   ]
  },
  {
   "cell_type": "code",
   "execution_count": 26,
   "metadata": {},
   "outputs": [
    {
     "data": {
      "text/plain": [
       "True"
      ]
     },
     "execution_count": 26,
     "metadata": {},
     "output_type": "execute_result"
    }
   ],
   "source": [
    "my_list.remove(3)"
   ]
  },
  {
   "cell_type": "code",
   "execution_count": 20,
   "metadata": {},
   "outputs": [
    {
     "data": {
      "text/plain": [
       "5"
      ]
     },
     "execution_count": 20,
     "metadata": {},
     "output_type": "execute_result"
    }
   ],
   "source": [
    "my_list"
   ]
  },
  {
   "cell_type": "markdown",
   "metadata": {},
   "source": [
    "#### Reverse using iterative method"
   ]
  },
  {
   "cell_type": "code",
   "execution_count": 12,
   "metadata": {},
   "outputs": [
    {
     "name": "stdout",
     "output_type": "stream",
     "text": [
      "3\n",
      "6\n"
     ]
    }
   ],
   "source": [
    "print(my_list.head)\n",
    "print(my_list.last)"
   ]
  },
  {
   "cell_type": "code",
   "execution_count": 13,
   "metadata": {},
   "outputs": [],
   "source": [
    "my_list.reverse_iterative()"
   ]
  },
  {
   "cell_type": "code",
   "execution_count": 14,
   "metadata": {},
   "outputs": [
    {
     "data": {
      "text/plain": [
       "6 --> 5 --> 4 --> 3"
      ]
     },
     "execution_count": 14,
     "metadata": {},
     "output_type": "execute_result"
    }
   ],
   "source": [
    "my_list"
   ]
  },
  {
   "cell_type": "code",
   "execution_count": 15,
   "metadata": {},
   "outputs": [
    {
     "name": "stdout",
     "output_type": "stream",
     "text": [
      "6\n",
      "3\n"
     ]
    }
   ],
   "source": [
    "print(my_list.head)\n",
    "print(my_list.last)"
   ]
  },
  {
   "cell_type": "code",
   "execution_count": 16,
   "metadata": {},
   "outputs": [],
   "source": [
    "my_list.reverse_iterative()"
   ]
  },
  {
   "cell_type": "code",
   "execution_count": 19,
   "metadata": {},
   "outputs": [
    {
     "data": {
      "text/plain": [
       "3 --> 4 --> 5 --> 6"
      ]
     },
     "execution_count": 19,
     "metadata": {},
     "output_type": "execute_result"
    }
   ],
   "source": [
    "my_list"
   ]
  },
  {
   "cell_type": "markdown",
   "metadata": {},
   "source": [
    "#### Reverse list using recrusion"
   ]
  },
  {
   "cell_type": "code",
   "execution_count": 98,
   "metadata": {},
   "outputs": [
    {
     "name": "stdout",
     "output_type": "stream",
     "text": [
      "3\n",
      "5\n"
     ]
    }
   ],
   "source": [
    "print(my_list.head)\n",
    "print(my_list.last)"
   ]
  },
  {
   "cell_type": "code",
   "execution_count": 105,
   "metadata": {},
   "outputs": [],
   "source": [
    "my_list.reverse()"
   ]
  },
  {
   "cell_type": "code",
   "execution_count": 106,
   "metadata": {},
   "outputs": [
    {
     "data": {
      "text/plain": [
       "3 --> 4 --> 5"
      ]
     },
     "execution_count": 106,
     "metadata": {},
     "output_type": "execute_result"
    }
   ],
   "source": [
    "my_list"
   ]
  },
  {
   "cell_type": "code",
   "execution_count": 108,
   "metadata": {},
   "outputs": [
    {
     "name": "stdout",
     "output_type": "stream",
     "text": [
      "2\n",
      "3.5\n",
      "4.5\n",
      "6\n",
      "10\n"
     ]
    }
   ],
   "source": [
    "my_list2 = LinkedList()\n",
    "my_list2.add(2)\n",
    "my_list2.add(3.5)\n",
    "my_list2.add(4.5)\n",
    "my_list2.add(6)\n",
    "my_list2.add(10)\n",
    "my_list2.display()"
   ]
  },
  {
   "cell_type": "markdown",
   "metadata": {},
   "source": [
    "##### Merge the two sorted lists into one sorted LinkedList."
   ]
  },
  {
   "cell_type": "code",
   "execution_count": 109,
   "metadata": {},
   "outputs": [],
   "source": [
    "def _merge_sorted_lists_helper(node1, node2):\n",
    "    if not node2:\n",
    "        return node1\n",
    "    \n",
    "    if not node1:\n",
    "        return node2\n",
    "    \n",
    "    if node1.value < node2.value:\n",
    "        next_node = _merge_sorted_lists_helper(node1.next, node2)\n",
    "        node1.next = next_node\n",
    "        return node1\n",
    "    else:\n",
    "        next_node = _merge_sorted_lists_helper(node1, node2.next)\n",
    "        node2.next = next_node\n",
    "        return node2"
   ]
  },
  {
   "cell_type": "code",
   "execution_count": 110,
   "metadata": {},
   "outputs": [],
   "source": [
    "def merge_sorted_lists(list1, list2):\n",
    "    merged_list = LinkedList()\n",
    "    head = _merge_sorted_lists_helper(list1.head, list2.head)\n",
    "    merged_list.head = head\n",
    "    return merged_list"
   ]
  },
  {
   "cell_type": "code",
   "execution_count": 111,
   "metadata": {},
   "outputs": [],
   "source": [
    "merged_list = merge_sorted_lists(my_list, my_list2)"
   ]
  },
  {
   "cell_type": "code",
   "execution_count": 112,
   "metadata": {},
   "outputs": [
    {
     "name": "stdout",
     "output_type": "stream",
     "text": [
      "2\n",
      "3\n",
      "3.5\n",
      "4\n",
      "4.5\n",
      "5\n",
      "6\n",
      "10\n"
     ]
    }
   ],
   "source": [
    "merged_list.display()"
   ]
  },
  {
   "cell_type": "code",
   "execution_count": 113,
   "metadata": {},
   "outputs": [
    {
     "data": {
      "text/plain": [
       "8"
      ]
     },
     "execution_count": 113,
     "metadata": {},
     "output_type": "execute_result"
    }
   ],
   "source": [
    "len(merged_list)"
   ]
  },
  {
   "cell_type": "code",
   "execution_count": 114,
   "metadata": {},
   "outputs": [
    {
     "data": {
      "text/plain": [
       "2 --> 3 --> 3.5 --> 4 --> 4.5 --> 5 --> 6 --> 10"
      ]
     },
     "execution_count": 114,
     "metadata": {},
     "output_type": "execute_result"
    }
   ],
   "source": [
    "merged_list"
   ]
  },
  {
   "cell_type": "code",
   "execution_count": 115,
   "metadata": {},
   "outputs": [],
   "source": [
    "merged_list.reverse()"
   ]
  },
  {
   "cell_type": "code",
   "execution_count": 116,
   "metadata": {},
   "outputs": [
    {
     "data": {
      "text/plain": [
       "10 --> 6 --> 5 --> 4.5 --> 4 --> 3.5 --> 3 --> 2"
      ]
     },
     "execution_count": 116,
     "metadata": {},
     "output_type": "execute_result"
    }
   ],
   "source": [
    "merged_list.last"
   ]
  },
  {
   "cell_type": "markdown",
   "metadata": {},
   "source": [
    "#### Add two numbers stored as digits in linked lists.  List head node will be 10s place."
   ]
  },
  {
   "cell_type": "code",
   "execution_count": 91,
   "metadata": {},
   "outputs": [],
   "source": [
    "num1 = LinkedList()\n",
    "num1.add(9)\n",
    "num1.add(8)\n",
    "num1.add(1)"
   ]
  },
  {
   "cell_type": "code",
   "execution_count": 92,
   "metadata": {},
   "outputs": [],
   "source": [
    "num2 = LinkedList()\n",
    "num2.add(8)\n",
    "num2.add(4)\n",
    "#num2.add(6)"
   ]
  },
  {
   "cell_type": "code",
   "execution_count": 93,
   "metadata": {},
   "outputs": [],
   "source": [
    "def _add_nums(node1, node2, carry=0):\n",
    "    \n",
    "    if not node1 and not node2:\n",
    "        return\n",
    "    \n",
    "    node1_val = node1.value if node1 else 0\n",
    "    node2_val = node2.value if node2 else 0\n",
    "    node_sum = node1_val + node2_val + carry\n",
    "    ones_place = node_sum % 10\n",
    "    if node_sum - 10 >= 0:\n",
    "        carry = 1\n",
    "        \n",
    "    node = Node(ones_place)\n",
    "    next1 = node1.next if node1 else None\n",
    "    next2 = node2.next if node2 else None\n",
    "    node.next = _add_nums(next1, next2, carry)\n",
    "    return node"
   ]
  },
  {
   "cell_type": "code",
   "execution_count": 94,
   "metadata": {},
   "outputs": [],
   "source": [
    "def add_nums(list1, list2):\n",
    "    sum_list = LinkedList()\n",
    "    sum_list.head = _add_nums(list1.head, list2.head)\n",
    "    return sum_list"
   ]
  },
  {
   "cell_type": "code",
   "execution_count": 95,
   "metadata": {},
   "outputs": [],
   "source": [
    "list_sum = add_nums(num1, num2)"
   ]
  },
  {
   "cell_type": "code",
   "execution_count": 96,
   "metadata": {},
   "outputs": [
    {
     "name": "stdout",
     "output_type": "stream",
     "text": [
      "7\n",
      "3\n",
      "2\n"
     ]
    }
   ],
   "source": [
    "list_sum.display()"
   ]
  },
  {
   "cell_type": "markdown",
   "metadata": {},
   "source": [
    "#### 2.2) Find K to last element"
   ]
  },
  {
   "cell_type": "code",
   "execution_count": 4,
   "metadata": {},
   "outputs": [
    {
     "name": "stdout",
     "output_type": "stream",
     "text": [
      "3\n",
      "5\n",
      "6\n",
      "7\n",
      "747\n",
      "57\n",
      "73\n",
      "27\n",
      "1\n"
     ]
    }
   ],
   "source": [
    "list_22 = LinkedList()\n",
    "list_22.add(3)\n",
    "list_22.add(5)\n",
    "list_22.add(6)\n",
    "list_22.add(7)\n",
    "list_22.add(747)\n",
    "list_22.add(57)\n",
    "list_22.add(73)\n",
    "list_22.add(27)\n",
    "list_22.add(1)\n",
    "list_22.display()"
   ]
  },
  {
   "cell_type": "code",
   "execution_count": 128,
   "metadata": {},
   "outputs": [],
   "source": [
    "def k_to_last(the_list, k):\n",
    "    x = the_list.size - k\n",
    "    return list_22.find_xth_node(x)"
   ]
  },
  {
   "cell_type": "code",
   "execution_count": 132,
   "metadata": {},
   "outputs": [
    {
     "data": {
      "text/plain": [
       "57"
      ]
     },
     "execution_count": 132,
     "metadata": {},
     "output_type": "execute_result"
    }
   ],
   "source": [
    "k_to_last(list_22, 3)"
   ]
  },
  {
   "cell_type": "code",
   "execution_count": 112,
   "metadata": {},
   "outputs": [
    {
     "data": {
      "text/plain": [
       "6"
      ]
     },
     "execution_count": 112,
     "metadata": {},
     "output_type": "execute_result"
    }
   ],
   "source": [
    "k = 3\n",
    "list_22.size - 3"
   ]
  },
  {
   "cell_type": "code",
   "execution_count": 133,
   "metadata": {},
   "outputs": [
    {
     "data": {
      "text/plain": [
       "[0]"
      ]
     },
     "execution_count": 133,
     "metadata": {},
     "output_type": "execute_result"
    }
   ],
   "source": [
    "list(range(1))"
   ]
  },
  {
   "cell_type": "markdown",
   "metadata": {},
   "source": [
    "#### Find k to last element using 'runner' approach"
   ]
  },
  {
   "cell_type": "code",
   "execution_count": 38,
   "metadata": {},
   "outputs": [
    {
     "name": "stdout",
     "output_type": "stream",
     "text": [
      "3\n",
      "5\n",
      "6\n",
      "7\n",
      "747\n",
      "57\n",
      "73\n",
      "27\n",
      "1\n"
     ]
    }
   ],
   "source": [
    "list_22.display()"
   ]
  },
  {
   "cell_type": "code",
   "execution_count": 39,
   "metadata": {},
   "outputs": [],
   "source": [
    "def k_to_last_runner(node, k):\n",
    "    runner = next_node = node\n",
    "    for i in range(k):\n",
    "        if runner is None:\n",
    "            return None\n",
    "        runner = runner.next\n",
    "\n",
    "    while runner:\n",
    "        runner = runner.next\n",
    "        next_node = next_node.next\n",
    "    return next_node"
   ]
  },
  {
   "cell_type": "code",
   "execution_count": 40,
   "metadata": {},
   "outputs": [
    {
     "data": {
      "text/plain": [
       "27"
      ]
     },
     "execution_count": 40,
     "metadata": {},
     "output_type": "execute_result"
    }
   ],
   "source": [
    "node = k_to_last_runner(list_22.head, 2)\n",
    "node.value"
   ]
  },
  {
   "cell_type": "markdown",
   "metadata": {},
   "source": [
    "#### 2.3) Delete middle node.  Only given access to it and not access to the prior node."
   ]
  },
  {
   "cell_type": "code",
   "execution_count": 100,
   "metadata": {},
   "outputs": [
    {
     "name": "stdout",
     "output_type": "stream",
     "text": [
      "3\n",
      "5\n",
      "6\n",
      "7\n",
      "1\n"
     ]
    }
   ],
   "source": [
    "list_23 = LinkedList()\n",
    "list_23.add(3)\n",
    "list_23.add(5)\n",
    "list_23.add(6)\n",
    "list_23.add(7)\n",
    "list_23.add(1)\n",
    "list_23.display()"
   ]
  },
  {
   "cell_type": "code",
   "execution_count": 102,
   "metadata": {},
   "outputs": [
    {
     "data": {
      "text/plain": [
       "6"
      ]
     },
     "execution_count": 102,
     "metadata": {},
     "output_type": "execute_result"
    }
   ],
   "source": [
    "mid_node = list_23.head.next.next\n",
    "mid_node.value"
   ]
  },
  {
   "cell_type": "code",
   "execution_count": 103,
   "metadata": {},
   "outputs": [],
   "source": [
    "def remove_node(node):\n",
    "    next_val = node.next.value\n",
    "    next_next = node.next.next\n",
    "    node.value = next_val\n",
    "    node.next = next_next"
   ]
  },
  {
   "cell_type": "code",
   "execution_count": 104,
   "metadata": {},
   "outputs": [],
   "source": [
    "remove_node(mid_node)"
   ]
  },
  {
   "cell_type": "code",
   "execution_count": 105,
   "metadata": {},
   "outputs": [
    {
     "name": "stdout",
     "output_type": "stream",
     "text": [
      "3\n",
      "5\n",
      "7\n",
      "1\n"
     ]
    }
   ],
   "source": [
    "list_23.display()"
   ]
  },
  {
   "cell_type": "markdown",
   "metadata": {},
   "source": [
    "#### Double linked list and determine if it is palindrome."
   ]
  },
  {
   "cell_type": "code",
   "execution_count": 41,
   "metadata": {},
   "outputs": [
    {
     "data": {
      "text/plain": [
       "'/Users/flatironschool/Documents/personal_projects/interview_code_questions'"
      ]
     },
     "execution_count": 41,
     "metadata": {},
     "output_type": "execute_result"
    }
   ],
   "source": [
    "pwd"
   ]
  },
  {
   "cell_type": "code",
   "execution_count": null,
   "metadata": {},
   "outputs": [],
   "source": []
  }
 ],
 "metadata": {
  "kernelspec": {
   "display_name": "Python 3",
   "language": "python",
   "name": "python3"
  },
  "language_info": {
   "codemirror_mode": {
    "name": "ipython",
    "version": 3
   },
   "file_extension": ".py",
   "mimetype": "text/x-python",
   "name": "python",
   "nbconvert_exporter": "python",
   "pygments_lexer": "ipython3",
   "version": "3.7.4"
  }
 },
 "nbformat": 4,
 "nbformat_minor": 2
}
