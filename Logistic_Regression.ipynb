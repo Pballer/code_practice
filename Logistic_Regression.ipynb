{
 "cells": [
  {
   "cell_type": "markdown",
   "metadata": {},
   "source": [
    "Source: https://www.geeksforgeeks.org/understanding-logistic-regression/"
   ]
  },
  {
   "cell_type": "code",
   "execution_count": 19,
   "metadata": {},
   "outputs": [],
   "source": [
    "import csv \n",
    "import numpy as np \n",
    "import matplotlib.pyplot as plt "
   ]
  },
  {
   "cell_type": "code",
   "execution_count": null,
   "metadata": {},
   "outputs": [],
   "source": [
    "def loadCSV(filename): \n",
    "    ''' \n",
    "    function to load dataset \n",
    "    '''\n",
    "    with open(filename,\"r\") as csvfile: \n",
    "        lines = csv.reader(csvfile) \n",
    "        dataset = list(lines) \n",
    "        for i in range(len(dataset)): \n",
    "            dataset[i] = [float(x) for x in dataset[i]]     \n",
    "    return np.array(dataset) \n",
    "\n",
    "\n",
    "def normalize(X): \n",
    "    ''' \n",
    "    function to normalize feature matrix, X \n",
    "    '''\n",
    "    mins = np.min(X, axis = 0) \n",
    "    maxs = np.max(X, axis = 0) \n",
    "    rng = maxs - mins \n",
    "    norm_X = 1 - ((maxs - X)/rng) \n",
    "    return norm_X \n",
    "\n",
    "\n",
    "def logistic_func(beta, X): \n",
    "    ''' \n",
    "    logistic(sigmoid) function \n",
    "    '''\n",
    "    return 1.0/(1 + np.exp(-np.dot(X, beta.T))) \n",
    "\n",
    "\n",
    "def log_gradient(beta, X, y): \n",
    "    ''' \n",
    "    logistic gradient function \n",
    "    '''\n",
    "    first_calc = logistic_func(beta, X) - y.reshape(X.shape[0], -1) \n",
    "    final_calc = np.dot(first_calc.T, X) \n",
    "    return final_calc \n",
    "\n",
    "\n",
    "def cost_func(beta, X, y): \n",
    "    ''' \n",
    "    cost function, J \n",
    "    '''\n",
    "    log_func_v = logistic_func(beta, X) \n",
    "    y = np.squeeze(y) \n",
    "    step1 = y * np.log(log_func_v) \n",
    "    step2 = (1 - y) * np.log(1 - log_func_v) \n",
    "    final = -step1 - step2 \n",
    "    return np.mean(final) \n",
    "\n",
    "\n",
    "def grad_desc(X, y, beta, lr=.01, converge_change=.001): \n",
    "    ''' \n",
    "    gradient descent function \n",
    "    '''\n",
    "    cost = cost_func(beta, X, y) \n",
    "    change_cost = 1\n",
    "    num_iter = 1\n",
    "    \n",
    "    while(change_cost > converge_change): \n",
    "        old_cost = cost \n",
    "        beta = beta - (lr * log_gradient(beta, X, y)) \n",
    "        cost = cost_func(beta, X, y) \n",
    "        change_cost = old_cost - cost \n",
    "        num_iter += 1\n",
    "    \n",
    "    return beta, num_iter \n",
    "\n",
    "\n",
    "def pred_values(beta, X): \n",
    "    ''' \n",
    "    function to predict labels \n",
    "    '''\n",
    "    pred_prob = logistic_func(beta, X) \n",
    "    pred_value = np.where(pred_prob >= .5, 1, 0) \n",
    "    return np.squeeze(pred_value) \n",
    "\n",
    "\n",
    "def plot_reg(X, y, beta): \n",
    "    ''' \n",
    "    function to plot decision boundary \n",
    "    '''\n",
    "    # labelled observations \n",
    "    x_0 = X[np.where(y == 0.0)] \n",
    "    x_1 = X[np.where(y == 1.0)] \n",
    "    \n",
    "    # plotting points with diff color for diff label \n",
    "    plt.scatter([x_0[:, 1]], [x_0[:, 2]], c='b', label='y = 0') \n",
    "    plt.scatter([x_1[:, 1]], [x_1[:, 2]], c='r', label='y = 1') \n",
    "    \n",
    "    # plotting decision boundary \n",
    "    x1 = np.arange(0, 1, 0.1) \n",
    "    x2 = -(beta[0,0] + beta[0,1]*x1)/beta[0,2] \n",
    "    plt.plot(x1, x2, c='k', label='reg line') \n",
    "\n",
    "    plt.xlabel('x1') \n",
    "    plt.ylabel('x2') \n",
    "    plt.legend() \n",
    "    plt.show() "
   ]
  },
  {
   "cell_type": "code",
   "execution_count": 7,
   "metadata": {},
   "outputs": [
    {
     "name": "stdout",
     "output_type": "stream",
     "text": [
      "Estimated regression coefficients: [[  1.70474504  15.04062212 -20.47216021]]\n",
      "No. of iterations: 2612\n",
      "Correctly predicted labels: 100\n"
     ]
    },
    {
     "data": {
      "image/png": "[encoded data removed]",
      "text/plain": [
       "<Figure size 432x288 with 1 Axes>"
      ]
     },
     "metadata": {
      "needs_background": "light"
     },
     "output_type": "display_data"
    }
   ],
   "source": [
    "if __name__ == \"__main__\": \n",
    "    # load the dataset \n",
    "    dataset = loadCSV('data/dataset1.csv') \n",
    "    \n",
    "    # normalizing feature matrix \n",
    "    X = normalize(dataset[:, :-1]) \n",
    "    \n",
    "    # stacking columns wth all ones in feature matrix \n",
    "    X = np.hstack((np.matrix(np.ones(X.shape[0])).T, X)) \n",
    "\n",
    "    # response vector \n",
    "    y = dataset[:, -1] \n",
    "\n",
    "    # initial beta values \n",
    "    beta = np.matrix(np.zeros(X.shape[1])) \n",
    "\n",
    "    # beta values after running gradient descent \n",
    "    beta, num_iter = grad_desc(X, y, beta) \n",
    "\n",
    "    # estimated beta values and number of iterations \n",
    "    print(\"Estimated regression coefficients:\", beta) \n",
    "    print(\"No. of iterations:\", num_iter) \n",
    "\n",
    "    # predicted labels \n",
    "    y_pred = pred_values(beta, X) \n",
    "    \n",
    "    # number of correctly predicted labels \n",
    "    print(\"Correctly predicted labels:\", np.sum(y == y_pred)) \n",
    "    \n",
    "    # plotting regression line \n",
    "    plot_reg(X, y, beta) "
   ]
  },
  {
   "cell_type": "code",
   "execution_count": 20,
   "metadata": {},
   "outputs": [],
   "source": [
    "import pandas as pd\n",
    "from sklearn.linear_model import LogisticRegression"
   ]
  },
  {
   "cell_type": "code",
   "execution_count": 17,
   "metadata": {},
   "outputs": [],
   "source": [
    "data = pd.read_csv('data/dataset1.csv', names=['x1', 'x2', 'y'])"
   ]
  },
  {
   "cell_type": "code",
   "execution_count": 21,
   "metadata": {},
   "outputs": [],
   "source": [
    "logit = LogisticRegression()"
   ]
  },
  {
   "cell_type": "code",
   "execution_count": 27,
   "metadata": {},
   "outputs": [
    {
     "name": "stderr",
     "output_type": "stream",
     "text": [
      "/Users/flatironschool/opt/anaconda3/lib/python3.7/site-packages/sklearn/linear_model/logistic.py:432: FutureWarning: Default solver will be changed to 'lbfgs' in 0.22. Specify a solver to silence this warning.\n",
      "  FutureWarning)\n"
     ]
    },
    {
     "data": {
      "text/plain": [
       "LogisticRegression(C=1.0, class_weight=None, dual=False, fit_intercept=True,\n",
       "                   intercept_scaling=1, l1_ratio=None, max_iter=100,\n",
       "                   multi_class='warn', n_jobs=None, penalty='l2',\n",
       "                   random_state=None, solver='warn', tol=0.0001, verbose=0,\n",
       "                   warm_start=False)"
      ]
     },
     "execution_count": 27,
     "metadata": {},
     "output_type": "execute_result"
    }
   ],
   "source": [
    "logit.fit(data[['x1', 'x2']], data.y)"
   ]
  },
  {
   "cell_type": "code",
   "execution_count": 43,
   "metadata": {},
   "outputs": [],
   "source": [
    "x1 = np.linspace(1, 15, 100) #.reshape(-1, 1)\n",
    "x2 = np.linspace(1, 15, 100) #.reshape(-1, 1)"
   ]
  },
  {
   "cell_type": "code",
   "execution_count": 47,
   "metadata": {},
   "outputs": [],
   "source": [
    "test_data = pd.DataFrame([x1, x2]).T\n",
    "test_data.columns = ['x1', 'x2']"
   ]
  },
  {
   "cell_type": "code",
   "execution_count": 49,
   "metadata": {},
   "outputs": [
    {
     "data": {
      "text/plain": [
       "array([1., 1., 1., 1., 1., 1., 1., 1., 1., 0., 0., 0., 0., 0., 0., 0., 0.,\n",
       "       0., 0., 0., 0., 0., 0., 0., 0., 0., 0., 0., 0., 0., 0., 0., 0., 0.,\n",
       "       0., 0., 0., 0., 0., 0., 0., 0., 0., 0., 0., 0., 0., 0., 0., 0., 0.,\n",
       "       0., 0., 0., 0., 0., 0., 0., 0., 0., 0., 0., 0., 0., 0., 0., 0., 0.,\n",
       "       0., 0., 0., 0., 0., 0., 0., 0., 0., 0., 0., 0., 0., 0., 0., 0., 0.,\n",
       "       0., 0., 0., 0., 0., 0., 0., 0., 0., 0., 0., 0., 0., 0., 0.])"
      ]
     },
     "execution_count": 49,
     "metadata": {},
     "output_type": "execute_result"
    }
   ],
   "source": [
    "logit.predict(test_data)"
   ]
  },
  {
   "cell_type": "code",
   "execution_count": null,
   "metadata": {},
   "outputs": [],
   "source": []
  }
 ],
 "metadata": {
  "kernelspec": {
   "display_name": "Python 3",
   "language": "python",
   "name": "python3"
  },
  "language_info": {
   "codemirror_mode": {
    "name": "ipython",
    "version": 3
   },
   "file_extension": ".py",
   "mimetype": "text/x-python",
   "name": "python",
   "nbconvert_exporter": "python",
   "pygments_lexer": "ipython3",
   "version": "3.7.4"
  }
 },
 "nbformat": 4,
 "nbformat_minor": 2
}
