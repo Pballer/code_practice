{
 "cells": [
  {
   "cell_type": "code",
   "execution_count": 90,
   "metadata": {},
   "outputs": [],
   "source": [
    "heap = [10,20,30,4,5,6,7,80,9]"
   ]
  },
  {
   "cell_type": "code",
   "execution_count": 91,
   "metadata": {},
   "outputs": [],
   "source": [
    "# left child = index * 2 + 1\n",
    "# right child = index * 2 + 2\n",
    "# parent = (index - 1) // 2"
   ]
  },
  {
   "cell_type": "code",
   "execution_count": 112,
   "metadata": {},
   "outputs": [],
   "source": [
    "class MinHeap:\n",
    "    \n",
    "    def __init__(self, array:list=None):\n",
    "        \n",
    "        if array:\n",
    "            self._arr = array.copy()\n",
    "            self.heapify()\n",
    "        else:\n",
    "            self._arr = []\n",
    "        \n",
    "        \n",
    "    def heapify(self):\n",
    "        ''' Convert list to min heap. '''\n",
    "        \n",
    "        # Loop through parent nodes\n",
    "        for i in range(len(self._arr)-1, -1, -1):\n",
    "            self._heapify_helper(i)\n",
    "            \n",
    "            \n",
    "    def _heapify_helper(self, i):    \n",
    "        swaped = True\n",
    "\n",
    "        # bubble down parent until it is larger than both children.\n",
    "        while swaped:\n",
    "            swaped = False\n",
    "            left_child = i*2+1\n",
    "            right_child = i*2+2\n",
    "\n",
    "            # 2 children case\n",
    "            if (left_child < len(self._arr) and right_child < len(self._arr)):\n",
    "\n",
    "                min_child = left_child if self._arr[left_child] < self._arr[right_child] else right_child\n",
    "                if self._arr[min_child] < self._arr[i]:\n",
    "                    self._arr[min_child], self._arr[i] = self._arr[i], self._arr[min_child]\n",
    "                    swaped = True\n",
    "                    i = min_child\n",
    "\n",
    "            # left child only\n",
    "            elif (left_child < len(self._arr) and self._arr[left_child] < self._arr[i]):\n",
    "                self._arr[left_child], self._arr[i] = self._arr[i], self._arr[left_child]\n",
    "                swaped = True\n",
    "                i = left_child\n",
    "\n",
    "            # right child only\n",
    "            elif (right_child < len(self._arr) and self._arr[right_child] < self._arr[i]):\n",
    "                self._arr[right_child], self._arr[i] = self._arr[i], self._arr[right_child]\n",
    "                swaped = True\n",
    "                i = right_child\n",
    "                    \n",
    "    def is_empty(self):\n",
    "        return not bool(self._arr)\n",
    "                    \n",
    "    def get_min(self):\n",
    "        if self.is_empty():\n",
    "            return None\n",
    "        \n",
    "        \n",
    "        min_item = self._arr[0]\n",
    "        new_min = self._arr.pop()\n",
    "        \n",
    "        if not self.is_empty():\n",
    "            self._arr[0] = new_min\n",
    "            # move last item to correct place\n",
    "            self._heapify_helper(0)\n",
    "            \n",
    "        return min_item\n",
    "    \n",
    "    def peek(self):\n",
    "        if not self.is_empty():\n",
    "            return self._arr[0]\n",
    "        return None\n",
    "    \n",
    "    def insert(self, item):\n",
    "        self._arr.append(item)\n",
    "        i = len(self._arr)-1\n",
    "        parent = (i-1)//2\n",
    "        \n",
    "        while parent >= 0 and self._arr[parent] > self._arr[i]:\n",
    "            self._arr[parent], self._arr[i] = self._arr[i], self._arr[parent]\n",
    "            i = parent\n",
    "            parent = (i-1)//2\n"
   ]
  },
  {
   "cell_type": "code",
   "execution_count": 113,
   "metadata": {},
   "outputs": [],
   "source": [
    "min_heap = MinHeap(heap)"
   ]
  },
  {
   "cell_type": "code",
   "execution_count": 114,
   "metadata": {},
   "outputs": [
    {
     "data": {
      "text/plain": [
       "[4, 5, 6, 9, 10, 30, 7, 80, 20]"
      ]
     },
     "execution_count": 114,
     "metadata": {},
     "output_type": "execute_result"
    }
   ],
   "source": [
    "min_heap._arr"
   ]
  },
  {
   "cell_type": "code",
   "execution_count": 115,
   "metadata": {},
   "outputs": [
    {
     "name": "stdout",
     "output_type": "stream",
     "text": [
      "4\n",
      "5\n",
      "6\n",
      "7\n",
      "9\n",
      "10\n",
      "20\n",
      "30\n",
      "80\n"
     ]
    }
   ],
   "source": [
    "while not min_heap.is_empty():\n",
    "    print(min_heap.get_min())"
   ]
  },
  {
   "cell_type": "code",
   "execution_count": 116,
   "metadata": {},
   "outputs": [],
   "source": [
    "min_heap.insert(2)"
   ]
  },
  {
   "cell_type": "code",
   "execution_count": 117,
   "metadata": {},
   "outputs": [
    {
     "data": {
      "text/plain": [
       "2"
      ]
     },
     "execution_count": 117,
     "metadata": {},
     "output_type": "execute_result"
    }
   ],
   "source": [
    "min_heap.peek()"
   ]
  },
  {
   "cell_type": "code",
   "execution_count": 118,
   "metadata": {},
   "outputs": [],
   "source": [
    "min_heap.insert(1)"
   ]
  },
  {
   "cell_type": "code",
   "execution_count": 119,
   "metadata": {},
   "outputs": [
    {
     "data": {
      "text/plain": [
       "1"
      ]
     },
     "execution_count": 119,
     "metadata": {},
     "output_type": "execute_result"
    }
   ],
   "source": [
    "min_heap.peek()"
   ]
  },
  {
   "cell_type": "code",
   "execution_count": 121,
   "metadata": {},
   "outputs": [],
   "source": [
    "min_heap.insert(10)"
   ]
  },
  {
   "cell_type": "code",
   "execution_count": 122,
   "metadata": {},
   "outputs": [
    {
     "data": {
      "text/plain": [
       "1"
      ]
     },
     "execution_count": 122,
     "metadata": {},
     "output_type": "execute_result"
    }
   ],
   "source": [
    "min_heap.peek()"
   ]
  },
  {
   "cell_type": "code",
   "execution_count": 123,
   "metadata": {},
   "outputs": [],
   "source": [
    "min_heap.insert(0)"
   ]
  },
  {
   "cell_type": "code",
   "execution_count": 124,
   "metadata": {},
   "outputs": [
    {
     "data": {
      "text/plain": [
       "0"
      ]
     },
     "execution_count": 124,
     "metadata": {},
     "output_type": "execute_result"
    }
   ],
   "source": [
    "min_heap.peek()"
   ]
  },
  {
   "cell_type": "code",
   "execution_count": 125,
   "metadata": {},
   "outputs": [
    {
     "name": "stdout",
     "output_type": "stream",
     "text": [
      "0\n",
      "1\n",
      "2\n",
      "10\n"
     ]
    }
   ],
   "source": [
    "while not min_heap.is_empty():\n",
    "    print(min_heap.get_min())"
   ]
  },
  {
   "cell_type": "code",
   "execution_count": null,
   "metadata": {},
   "outputs": [],
   "source": []
  }
 ],
 "metadata": {
  "kernelspec": {
   "display_name": "Python 3",
   "language": "python",
   "name": "python3"
  },
  "language_info": {
   "codemirror_mode": {
    "name": "ipython",
    "version": 3
   },
   "file_extension": ".py",
   "mimetype": "text/x-python",
   "name": "python",
   "nbconvert_exporter": "python",
   "pygments_lexer": "ipython3",
   "version": "3.7.4"
  }
 },
 "nbformat": 4,
 "nbformat_minor": 2
}
