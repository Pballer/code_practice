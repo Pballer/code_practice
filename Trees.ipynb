{
 "cells": [
  {
   "cell_type": "code",
   "execution_count": 1,
   "metadata": {},
   "outputs": [],
   "source": [
    "from collections import deque\n",
    "import pprint"
   ]
  },
  {
   "cell_type": "code",
   "execution_count": 2,
   "metadata": {},
   "outputs": [],
   "source": [
    "class Node:\n",
    "    \n",
    "    def __init__(self, value):\n",
    "        self.value = value\n",
    "        self.right_child = None\n",
    "        self.left_child = None\n",
    "        \n",
    "    \n",
    "    def __repr__(self):\n",
    "        return '<Node: %s>' % self.value"
   ]
  },
  {
   "cell_type": "code",
   "execution_count": 3,
   "metadata": {},
   "outputs": [],
   "source": [
    "class BinaryTree:\n",
    "    \n",
    "    def __init__(self, values=None):\n",
    "        self.head = None\n",
    "        \n",
    "        if values:\n",
    "            for value in values:\n",
    "                self.add(value)\n",
    "        \n",
    "        \n",
    "    def add(self, value):\n",
    "        ''' Add item and maintain complete tree form. '''\n",
    "        if not self.head:\n",
    "            self.head = Node(value)\n",
    "            return\n",
    "        \n",
    "        # Optimization: make queue an instance variable\n",
    "        # instead of rebuliding each time.\n",
    "        queue = deque()\n",
    "        queue.append(self.head)\n",
    "        \n",
    "        while queue:\n",
    "            node = queue.popleft()\n",
    "            \n",
    "            if node.left_child and node.right_child:\n",
    "                queue.append(node.left_child)\n",
    "                queue.append(node.right_child)\n",
    "            elif not node.left_child:\n",
    "                node.left_child = Node(value)\n",
    "                return\n",
    "            else:\n",
    "                node.right_child = Node(value)\n",
    "                return\n",
    "        \n",
    "        \n",
    "    def get_min_value(self):\n",
    "        ''' Find and return minimum value in the tree. '''\n",
    "\n",
    "        min_value = self._get_min_value(self.head)\n",
    "        return min_value\n",
    "    \n",
    "    \n",
    "    def _get_min_value(self, node):\n",
    "        ''' Min value helper. '''\n",
    "        \n",
    "        if node:\n",
    "            min_left = self._get_min_value(node.left_child)\n",
    "            min_right = self._get_min_value(node.right_child)\n",
    "            min_val = min(min_left, min_right)\n",
    "        else:\n",
    "            return float('inf')\n",
    "        \n",
    "        return min(node.value, min_val)"
   ]
  },
  {
   "cell_type": "code",
   "execution_count": 4,
   "metadata": {},
   "outputs": [],
   "source": [
    "tree = BinaryTree([1,2,3,4,5,6,7,8,-1])"
   ]
  },
  {
   "cell_type": "code",
   "execution_count": 5,
   "metadata": {},
   "outputs": [],
   "source": [
    "tree.add(9)"
   ]
  },
  {
   "cell_type": "code",
   "execution_count": 6,
   "metadata": {},
   "outputs": [
    {
     "data": {
      "text/plain": [
       "<Node: -1>"
      ]
     },
     "execution_count": 6,
     "metadata": {},
     "output_type": "execute_result"
    }
   ],
   "source": [
    "tree.head.left_child.left_child.right_child"
   ]
  },
  {
   "cell_type": "code",
   "execution_count": 7,
   "metadata": {},
   "outputs": [
    {
     "data": {
      "text/plain": [
       "-1"
      ]
     },
     "execution_count": 7,
     "metadata": {},
     "output_type": "execute_result"
    }
   ],
   "source": [
    "tree.get_min_value()"
   ]
  },
  {
   "cell_type": "markdown",
   "metadata": {},
   "source": [
    "### Binary Search Tree"
   ]
  },
  {
   "cell_type": "code",
   "execution_count": 4,
   "metadata": {},
   "outputs": [],
   "source": [
    "class BST(BinaryTree):\n",
    "    \n",
    "    def __init__(self):\n",
    "        BinaryTree.__init__(self)\n",
    "        \n",
    "        self.displays = {'in': self._display_in_order,\n",
    "                        'pre': self._display_pre_order,\n",
    "                        'post': self._display_post_order}\n",
    "    \n",
    "        \n",
    "    def _add_child(self, value, node):\n",
    "        if value < node.value:\n",
    "            if not node.left_child:\n",
    "                node.left_child = Node(value)\n",
    "                return\n",
    "            self._add_child(value, node.left_child)\n",
    "        else:\n",
    "            if not node.right_child:\n",
    "                node.right_child = Node(value)\n",
    "                return\n",
    "            self._add_child(value, node.right_child)\n",
    "                \n",
    "    \n",
    "    def add(self, value):\n",
    "        \n",
    "        if not self.head:\n",
    "            self.head = Node(value)\n",
    "            return\n",
    "        \n",
    "        self._add_child(value, self.head)\n",
    "        \n",
    "        \n",
    "    def get_min_value_iteratively(self):\n",
    "        ''' Iterative approach to finding min value. '''\n",
    "        \n",
    "        if not self.head:\n",
    "            return None\n",
    "        \n",
    "        current = self.head\n",
    "        \n",
    "        while current.left_child:\n",
    "            current = current.left_child\n",
    "            \n",
    "        return current.value\n",
    "    \n",
    "        \n",
    "    def get_min(self):\n",
    "        ''' Find and return minimum node in the tree. '''\n",
    "        \n",
    "        if not self.head:\n",
    "            return None\n",
    "        \n",
    "        return self._get_min(self.head)\n",
    "    \n",
    "    \n",
    "    def _get_min(self, node):\n",
    "        ''' Min value helper. '''\n",
    "        \n",
    "        if node.left_child:\n",
    "            return self._get_min(node.left_child)\n",
    "\n",
    "        return node\n",
    "        \n",
    "        \n",
    "    def get_max_value(self):\n",
    "        ''' Return max value in tree. '''\n",
    "        \n",
    "        if not self.head:\n",
    "            return None\n",
    "        \n",
    "        max_value = self._get_max_value(self.head)\n",
    "        return max_value\n",
    "    \n",
    "    \n",
    "    def _get_max_value(self, node):\n",
    "        ''' Get max value helper. '''\n",
    "        \n",
    "        if node.right_child:\n",
    "            return self._get_max_value(node.right_child)\n",
    "            \n",
    "        return node.value\n",
    "    \n",
    "    \n",
    "    def _get_x_min_value(self, node, x, count):\n",
    "        \n",
    "        if node:\n",
    "            left_val = self._get_x_min_value(node.left_child, x, count)\n",
    "            count += 1\n",
    "            if count == x:\n",
    "                return node.value\n",
    "            right_val = self._get_x_min_value(node.right_child, x, count)\n",
    "            return left_val or right_val\n",
    "    \n",
    "    def get_x_min_value(self, x):\n",
    "        ''' Find a return x min value. '''\n",
    "        \n",
    "        count = Count()\n",
    "        x_min_value = self._get_x_min_value(self.head, x, count)\n",
    "        return x_min_value\n",
    "    \n",
    "    \n",
    "    def get_height(self):\n",
    "        ''' Return height of the tree. '''\n",
    "        \n",
    "        if not self.head:\n",
    "            return None\n",
    "        \n",
    "        height = self._get_height(self.head)\n",
    "        return height\n",
    "        \n",
    "    \n",
    "    def _get_height(self, node):\n",
    "        \n",
    "        if not node:\n",
    "            return -1\n",
    "        \n",
    "        return max(self._get_height(node.left_child), self._get_height(node.right_child)) +1\n",
    "    \n",
    "    \n",
    "    def level_order_traversal(self):\n",
    "        ''' Visit each level from left to right. '''\n",
    "        \n",
    "        if not self.head:\n",
    "            return None\n",
    "        \n",
    "        level_lists = []\n",
    "        node_queue = deque()\n",
    "        node_queue.append((self.head, 0))\n",
    "        \n",
    "        while node_queue:\n",
    "            node, level = node_queue.popleft()\n",
    "            if len(level_lists) <= level:\n",
    "                level_lists.append([])\n",
    "            \n",
    "            level_lists[level].append(node.value)\n",
    "            \n",
    "            if node.left_child:\n",
    "                node_queue.append((node.left_child, level+1))\n",
    "            \n",
    "            if node.right_child:\n",
    "                node_queue.append((node.right_child, level+1))\n",
    "        \n",
    "        return level_lists\n",
    "        \n",
    "    def _get_in_order_list(self, node, in_order):\n",
    "        ''' Return contents of tree as in order list. '''\n",
    "        \n",
    "        if node:\n",
    "            self._get_in_order_list(node.left_child, in_order)\n",
    "            in_order.append(node.value)\n",
    "            self._get_in_order_list(node.right_child, in_order)\n",
    "        \n",
    "    def get_in_order_list(self):\n",
    "        in_order = []\n",
    "        self._get_in_order_list(self.head, in_order)\n",
    "        return in_order\n",
    "        \n",
    "    def display(self, display_type='in'):\n",
    "        display_func = self.displays.get(display_type)\n",
    "        display_func(self.head)\n",
    "    \n",
    "    def _display_in_order(self, node):\n",
    "        if node:\n",
    "            self._display_in_order(node.left_child)\n",
    "            print(node.value)\n",
    "            self._display_in_order(node.right_child)\n",
    "            \n",
    "    def _display_pre_order(self, node):\n",
    "        if node:\n",
    "            print(node.value)\n",
    "            self._display_pre_order(node.left_child)\n",
    "            self._display_pre_order(node.right_child)\n",
    "            \n",
    "    def _display_post_order(self, node):\n",
    "        if node:\n",
    "            self._display_post_order(node.left_child)\n",
    "            self._display_post_order(node.right_child)\n",
    "            print(node.value)\n",
    "            \n",
    "    def is_bst(self):\n",
    "        ''' Check if tree is a binary search tree. '''\n",
    "        if not self.head:\n",
    "            return False\n",
    "        \n",
    "        return self._is_bst(self.head, float('-inf'), float('inf'))\n",
    "    \n",
    "    \n",
    "    def _is_bst(self, node, lower, upper):\n",
    "        ''' Utility funciton for binary search tree check. '''\n",
    "        if not node:\n",
    "            return True\n",
    "        \n",
    "        if (node.value > lower\n",
    "            and node.value < upper\n",
    "            and self._is_bst(node.left_child, lower, node.value)\n",
    "            and self._is_bst(node.right_child, node.value, upper)\n",
    "           ):\n",
    "            return True\n",
    "        \n",
    "        return False\n",
    "    \n",
    "    def is_bst_in_order_traversal(self):\n",
    "        pass\n",
    "    \n",
    "    \n",
    "    def contains(self, value):\n",
    "        ''' Search tree to see if it contains a specific value. '''\n",
    "        \n",
    "        if not self.head:\n",
    "            return False\n",
    "        \n",
    "        return self._contains(self.head, value)\n",
    "    \n",
    "    \n",
    "    def _contains(self, node, value):\n",
    "        \n",
    "        if not node:\n",
    "            return False\n",
    "        \n",
    "        if node.value == value:\n",
    "            return True\n",
    "        elif node.value > value:\n",
    "            return self._contains(node.left_child, value)\n",
    "        else:\n",
    "            return self._contains(node.right_child, value)\n",
    "        \n",
    "    def delete(self, value):\n",
    "        \n",
    "        if not self.head:\n",
    "            return None\n",
    "        \n",
    "        self.head = self._delete(self.head, value)\n",
    "        \n",
    "    def _delete(self, node, value):\n",
    "        \n",
    "        if not node:\n",
    "            return None\n",
    "        \n",
    "        if node.value > value:\n",
    "            node.left_child = self._delete(node.left_child, value)\n",
    "        elif node.value < value:\n",
    "            node.right_child = self._delete(node.right_child, value)\n",
    "        else:\n",
    "            # found the element to delete\n",
    "            # case 1: no childs\n",
    "            if not node.left_child and not node.right_child:\n",
    "                return None\n",
    "            # case 2: one child\n",
    "            elif not node.left_child:\n",
    "                return node.right_child\n",
    "            elif not node.right_child:\n",
    "                return node.left_child\n",
    "            else:\n",
    "                # case 3: has two childs\n",
    "                min_node = self._get_min(node.right_child)\n",
    "                # Relpace with min of the right subtree.\n",
    "                node.value = min_node.value\n",
    "                # Delete min node from right subtree.\n",
    "                node.right_child = self._delete(node.right_child, min_node.value)\n",
    "            \n",
    "        return node\n",
    "    \n",
    "    def _find_node(self, node, value):\n",
    "        ''' Search and return node that contains specified value. '''\n",
    "        \n",
    "        if node:\n",
    "            if value < node.value:\n",
    "                return self._find_node(node.left_child, value)\n",
    "            elif value > node.value:\n",
    "                return self._find_node(node.right_child, value)\n",
    "            else:\n",
    "                return node\n",
    "    \n",
    "    def find_in_order_successor(self, value):\n",
    "        \n",
    "        if not self.head:\n",
    "            return None\n",
    "        \n",
    "        return self._find_in_order_successor(value)\n",
    "    \n",
    "    \n",
    "    def _find_in_order_successor(self, value):\n",
    "        target_node = self._find_node(self.head, value)\n",
    "        \n",
    "        if not target_node:\n",
    "            return None\n",
    "        \n",
    "        if target_node.right_child:\n",
    "            return self._get_min(target_node.right_child)\n",
    "        \n",
    "        # Find nearest ancestor that is greater than value.\n",
    "        ancestor = None\n",
    "        current_node = self.head\n",
    "        while current_node:\n",
    "            if value < current_node.value:\n",
    "                ancestor = current_node\n",
    "                current_node = current_node.left_child\n",
    "            elif value > current_node.value:\n",
    "                current_node = current_node.right_child\n",
    "            else:\n",
    "                return ancestor"
   ]
  },
  {
   "cell_type": "code",
   "execution_count": 5,
   "metadata": {},
   "outputs": [],
   "source": [
    "bst = BST()\n",
    "bst.add(5)\n",
    "bst.add(6)\n",
    "bst.add(7)\n",
    "bst.add(2)\n",
    "bst.add(3)\n",
    "bst.add(4)"
   ]
  },
  {
   "cell_type": "code",
   "execution_count": 6,
   "metadata": {},
   "outputs": [
    {
     "name": "stdout",
     "output_type": "stream",
     "text": [
      "2\n",
      "3\n",
      "4\n",
      "5\n",
      "6\n",
      "7\n"
     ]
    }
   ],
   "source": [
    "bst.display()"
   ]
  },
  {
   "cell_type": "code",
   "execution_count": 135,
   "metadata": {},
   "outputs": [
    {
     "data": {
      "text/plain": [
       "<Node: 4>"
      ]
     },
     "execution_count": 135,
     "metadata": {},
     "output_type": "execute_result"
    }
   ],
   "source": [
    "# Find in order ancestor\n",
    "bst.find_in_order_successor(3)"
   ]
  },
  {
   "cell_type": "code",
   "execution_count": 92,
   "metadata": {},
   "outputs": [],
   "source": [
    "bst.delete(5)"
   ]
  },
  {
   "cell_type": "code",
   "execution_count": 93,
   "metadata": {},
   "outputs": [
    {
     "name": "stdout",
     "output_type": "stream",
     "text": [
      "2\n",
      "3\n",
      "4\n",
      "6\n",
      "7\n"
     ]
    }
   ],
   "source": [
    "bst.display()"
   ]
  },
  {
   "cell_type": "code",
   "execution_count": 221,
   "metadata": {},
   "outputs": [
    {
     "data": {
      "text/plain": [
       "8"
      ]
     },
     "execution_count": 221,
     "metadata": {},
     "output_type": "execute_result"
    }
   ],
   "source": [
    "bst.head.right_child.right_child.right_child.value"
   ]
  },
  {
   "cell_type": "code",
   "execution_count": 206,
   "metadata": {},
   "outputs": [
    {
     "data": {
      "text/plain": [
       "[2, 3, 4, 5, 6, 7]"
      ]
     },
     "execution_count": 206,
     "metadata": {},
     "output_type": "execute_result"
    }
   ],
   "source": [
    "bst.get_in_order_list()"
   ]
  },
  {
   "cell_type": "code",
   "execution_count": 17,
   "metadata": {},
   "outputs": [
    {
     "name": "stdout",
     "output_type": "stream",
     "text": [
      "<__main__.Node object at 0x1084fdfd0>\n"
     ]
    }
   ],
   "source": [
    "node = bst.get_min()"
   ]
  },
  {
   "cell_type": "code",
   "execution_count": 20,
   "metadata": {},
   "outputs": [
    {
     "data": {
      "text/plain": [
       "2"
      ]
     },
     "execution_count": 20,
     "metadata": {},
     "output_type": "execute_result"
    }
   ],
   "source": [
    "node.value"
   ]
  },
  {
   "cell_type": "code",
   "execution_count": 208,
   "metadata": {},
   "outputs": [
    {
     "data": {
      "text/plain": [
       "7"
      ]
     },
     "execution_count": 208,
     "metadata": {},
     "output_type": "execute_result"
    }
   ],
   "source": [
    "bst.get_max_value()"
   ]
  },
  {
   "cell_type": "markdown",
   "metadata": {},
   "source": [
    "#### Get second smallest element"
   ]
  },
  {
   "cell_type": "code",
   "execution_count": 209,
   "metadata": {},
   "outputs": [],
   "source": [
    "class Count:\n",
    "    \n",
    "    def __init__(self):\n",
    "        self.count = 0\n",
    "    \n",
    "    def __add__(self, value):\n",
    "        self.count += value\n",
    "        return self\n",
    "        \n",
    "    def __eq__(self, other):\n",
    "        return self.count == other"
   ]
  },
  {
   "cell_type": "code",
   "execution_count": 210,
   "metadata": {},
   "outputs": [
    {
     "data": {
      "text/plain": [
       "3"
      ]
     },
     "execution_count": 210,
     "metadata": {},
     "output_type": "execute_result"
    }
   ],
   "source": [
    "bst.get_x_min_value(2)"
   ]
  },
  {
   "cell_type": "code",
   "execution_count": 211,
   "metadata": {},
   "outputs": [
    {
     "data": {
      "text/plain": [
       "4"
      ]
     },
     "execution_count": 211,
     "metadata": {},
     "output_type": "execute_result"
    }
   ],
   "source": [
    "bst.get_x_min_value(3)"
   ]
  },
  {
   "cell_type": "code",
   "execution_count": 212,
   "metadata": {},
   "outputs": [
    {
     "data": {
      "text/plain": [
       "2"
      ]
     },
     "execution_count": 212,
     "metadata": {},
     "output_type": "execute_result"
    }
   ],
   "source": [
    "bst.get_min_value_iteratively()"
   ]
  },
  {
   "cell_type": "code",
   "execution_count": 213,
   "metadata": {},
   "outputs": [
    {
     "data": {
      "text/plain": [
       "3"
      ]
     },
     "execution_count": 213,
     "metadata": {},
     "output_type": "execute_result"
    }
   ],
   "source": [
    "bst.get_height()"
   ]
  },
  {
   "cell_type": "code",
   "execution_count": 214,
   "metadata": {},
   "outputs": [],
   "source": [
    "bst.add(8)\n",
    "bst.add(9)"
   ]
  },
  {
   "cell_type": "code",
   "execution_count": 224,
   "metadata": {},
   "outputs": [
    {
     "data": {
      "text/plain": [
       "4"
      ]
     },
     "execution_count": 224,
     "metadata": {},
     "output_type": "execute_result"
    }
   ],
   "source": [
    "bst.get_height()"
   ]
  },
  {
   "cell_type": "code",
   "execution_count": 266,
   "metadata": {},
   "outputs": [],
   "source": [
    "levels = bst.level_order_traversal()"
   ]
  },
  {
   "cell_type": "code",
   "execution_count": 270,
   "metadata": {},
   "outputs": [
    {
     "name": "stdout",
     "output_type": "stream",
     "text": [
      "[5]\n",
      "[2, 6]\n",
      "[3, 7]\n",
      "[4]\n"
     ]
    }
   ],
   "source": [
    "for l in levels:\n",
    "    print(l)"
   ]
  },
  {
   "cell_type": "markdown",
   "metadata": {},
   "source": [
    "#### Is BST check"
   ]
  },
  {
   "cell_type": "code",
   "execution_count": 311,
   "metadata": {},
   "outputs": [
    {
     "data": {
      "text/plain": [
       "True"
      ]
     },
     "execution_count": 311,
     "metadata": {},
     "output_type": "execute_result"
    }
   ],
   "source": [
    "bst.is_bst()"
   ]
  },
  {
   "cell_type": "code",
   "execution_count": 312,
   "metadata": {},
   "outputs": [],
   "source": [
    "not_bst = BST()\n",
    "not_bst.add(10)\n",
    "not_bst.add(11)\n",
    "not_bst.add(9)\n",
    "not_bst.add(12)"
   ]
  },
  {
   "cell_type": "code",
   "execution_count": 313,
   "metadata": {},
   "outputs": [],
   "source": [
    "not_bst.head.right_child.right_child.value = 8"
   ]
  },
  {
   "cell_type": "code",
   "execution_count": 314,
   "metadata": {},
   "outputs": [
    {
     "name": "stdout",
     "output_type": "stream",
     "text": [
      "9\n",
      "10\n",
      "11\n",
      "8\n"
     ]
    }
   ],
   "source": [
    "not_bst.display()"
   ]
  },
  {
   "cell_type": "code",
   "execution_count": 315,
   "metadata": {},
   "outputs": [
    {
     "data": {
      "text/plain": [
       "False"
      ]
     },
     "execution_count": 315,
     "metadata": {},
     "output_type": "execute_result"
    }
   ],
   "source": [
    "not_bst.is_bst()"
   ]
  },
  {
   "cell_type": "code",
   "execution_count": 343,
   "metadata": {},
   "outputs": [
    {
     "data": {
      "text/plain": [
       "True"
      ]
     },
     "execution_count": 343,
     "metadata": {},
     "output_type": "execute_result"
    }
   ],
   "source": [
    "bst.contains(2)"
   ]
  },
  {
   "cell_type": "code",
   "execution_count": 346,
   "metadata": {},
   "outputs": [
    {
     "data": {
      "text/plain": [
       "False"
      ]
     },
     "execution_count": 346,
     "metadata": {},
     "output_type": "execute_result"
    }
   ],
   "source": [
    "bst.contains(100)"
   ]
  },
  {
   "cell_type": "markdown",
   "metadata": {},
   "source": [
    "### Create balanced BST tree from sorted array\n",
    "https://leetcode.com/explore/featured/card/top-interview-questions-easy/94/trees/631/"
   ]
  },
  {
   "cell_type": "code",
   "execution_count": 27,
   "metadata": {},
   "outputs": [],
   "source": [
    "def sorted_array_to_bst(nums):\n",
    "    ''' Iterative approach. '''\n",
    "    queue = deque()\n",
    "    # high, low\n",
    "    queue.append((len(nums), 0))\n",
    "    bst = BST()\n",
    "\n",
    "    while queue:\n",
    "        high, low = queue.popleft()\n",
    "        \n",
    "        if low >= high:\n",
    "            continue\n",
    "        \n",
    "        mid = (high+low) // 2\n",
    "        bst.add(nums[mid])\n",
    "        queue.append((high, mid+1))\n",
    "        queue.append((mid, low))\n",
    "\n",
    "    return bst"
   ]
  },
  {
   "cell_type": "code",
   "execution_count": 30,
   "metadata": {},
   "outputs": [],
   "source": [
    "bst = sorted_array_to_bst([-10, -3, 0, 3, 5, 6])"
   ]
  },
  {
   "cell_type": "code",
   "execution_count": 31,
   "metadata": {},
   "outputs": [
    {
     "name": "stdout",
     "output_type": "stream",
     "text": [
      "-10\n",
      "-3\n",
      "0\n",
      "3\n",
      "5\n",
      "6\n"
     ]
    }
   ],
   "source": [
    "bst.display()"
   ]
  },
  {
   "cell_type": "code",
   "execution_count": 18,
   "metadata": {},
   "outputs": [],
   "source": [
    "def sorted_array_to_bst(bst, nums, high, low):\n",
    "    if low >= high:\n",
    "        return\n",
    "    \n",
    "    mid = (high+low) // 2\n",
    "    bst.add(nums[mid])\n",
    "    sorted_array_to_bst(bst, nums, mid, low)\n",
    "    sorted_array_to_bst(bst, nums, high, mid+1)"
   ]
  },
  {
   "cell_type": "code",
   "execution_count": 23,
   "metadata": {},
   "outputs": [],
   "source": [
    "bst = BST()\n",
    "nums = list(range(9))\n",
    "sorted_array_to_bst(bst, nums, len(nums), 0)"
   ]
  },
  {
   "cell_type": "code",
   "execution_count": 24,
   "metadata": {},
   "outputs": [
    {
     "name": "stdout",
     "output_type": "stream",
     "text": [
      "0\n",
      "1\n",
      "2\n",
      "3\n",
      "4\n",
      "5\n",
      "6\n",
      "7\n",
      "8\n"
     ]
    }
   ],
   "source": [
    "bst.display()"
   ]
  },
  {
   "cell_type": "code",
   "execution_count": null,
   "metadata": {},
   "outputs": [],
   "source": []
  }
 ],
 "metadata": {
  "kernelspec": {
   "display_name": "Python 3",
   "language": "python",
   "name": "python3"
  },
  "language_info": {
   "codemirror_mode": {
    "name": "ipython",
    "version": 3
   },
   "file_extension": ".py",
   "mimetype": "text/x-python",
   "name": "python",
   "nbconvert_exporter": "python",
   "pygments_lexer": "ipython3",
   "version": "3.7.4"
  }
 },
 "nbformat": 4,
 "nbformat_minor": 2
}
