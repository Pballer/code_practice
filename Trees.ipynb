{
 "cells": [
  {
   "cell_type": "code",
   "execution_count": 1,
   "metadata": {},
   "outputs": [],
   "source": [
    "class Node:\n",
    "    \n",
    "    def __init__(self, value):\n",
    "        self.value = value\n",
    "        self.right_child = None\n",
    "        self.left_child = None"
   ]
  },
  {
   "cell_type": "code",
   "execution_count": 77,
   "metadata": {},
   "outputs": [],
   "source": [
    "class BinaryTree:\n",
    "    \n",
    "    def __init__(self):\n",
    "        self.head = None\n",
    "        \n",
    "        \n",
    "    def get_min_value(self):\n",
    "        ''' Find and return minimum value in the tree. '''\n",
    "\n",
    "        min_value = self._get_min_value(self.head)\n",
    "        return min_value\n",
    "    \n",
    "    \n",
    "    def _get_min_value(self, node):\n",
    "        ''' Min value helper. '''\n",
    "        \n",
    "        if node:\n",
    "            min_left = self._get_min_value(node.left_child)\n",
    "            min_right = self._get_min_value(node.right_child)\n",
    "            min_val = min(min_left, min_right)\n",
    "        else:\n",
    "            return float('inf')\n",
    "        \n",
    "        return min(node.value, min_val)"
   ]
  },
  {
   "cell_type": "code",
   "execution_count": 100,
   "metadata": {},
   "outputs": [],
   "source": [
    "class BST(BinaryTree):\n",
    "    \n",
    "    def __init__(self):\n",
    "        Tree.__init__(self)\n",
    "        \n",
    "        self.displays = {'in': self._display_in_order,\n",
    "                        'pre': self._display_pre_order,\n",
    "                        'post': self._display_post_order}\n",
    "    \n",
    "        \n",
    "    def _add_child(self, value, node):\n",
    "        if value < node.value:\n",
    "            if not node.left_child:\n",
    "                node.left_child = Node(value)\n",
    "                return\n",
    "            self._add_child(value, node.left_child)\n",
    "        else:\n",
    "            if not node.right_child:\n",
    "                node.right_child = Node(value)\n",
    "                return\n",
    "            self._add_child(value, node.right_child)\n",
    "                \n",
    "    \n",
    "    def add(self, value):\n",
    "        \n",
    "        if not self.head:\n",
    "            self.head = Node(value)\n",
    "            return\n",
    "        \n",
    "        self._add_child(value, self.head)\n",
    "        \n",
    "        \n",
    "    def get_min_value(self):\n",
    "        ''' Find and return minimum value in the tree. '''\n",
    "        \n",
    "        if not self.head:\n",
    "            return None\n",
    "        \n",
    "        min_value = self._get_min_value(self.head)\n",
    "        return min_value\n",
    "    \n",
    "    \n",
    "    def _get_min_value(self, node):\n",
    "        ''' Min value helper. '''\n",
    "        \n",
    "        if node.left_child:\n",
    "            return self._get_min_value(node.left_child)\n",
    "\n",
    "        return node.value\n",
    "        \n",
    "        \n",
    "    def get_max_value(self):\n",
    "        ''' Return max value in tree. '''\n",
    "        \n",
    "        if not self.head:\n",
    "            return None\n",
    "        \n",
    "        max_value = self._get_max_value(self.head)\n",
    "        return max_value\n",
    "    \n",
    "    \n",
    "    def _get_max_value(self, node):\n",
    "        ''' Get max value helper. '''\n",
    "        \n",
    "        if node.right_child:\n",
    "            return self._get_max_value(node.right_child)\n",
    "            \n",
    "        return node.value\n",
    "        \n",
    "        \n",
    "    def _get_in_order_list(self, node, in_order):\n",
    "        ''' Return contents of tree as in order list. '''\n",
    "        \n",
    "        if node:\n",
    "            self._get_in_order_list(node.left_child, in_order)\n",
    "            in_order.append(node.value)\n",
    "            self._get_in_order_list(node.right_child, in_order)\n",
    "        \n",
    "    def get_in_order_list(self):\n",
    "        in_order = []\n",
    "        self._get_in_order_list(self.head, in_order)\n",
    "        return in_order\n",
    "        \n",
    "    def display(self, display_type='in'):\n",
    "        display_func = self.displays.get(display_type)\n",
    "        display_func(self.head)\n",
    "    \n",
    "    def _display_in_order(self, node):\n",
    "        if node:\n",
    "            self._display_in_order(node.left_child)\n",
    "            print(node.value)\n",
    "            self._display_in_order(node.right_child)\n",
    "            \n",
    "    def _display_pre_order(self, node):\n",
    "        if node:\n",
    "            print(node.value)\n",
    "            self._display_pre_order(node.left_child)\n",
    "            self._display_pre_order(node.right_child)\n",
    "            \n",
    "    def _display_post_order(self, node):\n",
    "        if node:\n",
    "            self._display_post_order(node.left_child)\n",
    "            self._display_post_order(node.right_child)\n",
    "            print(node.value)\n",
    "    "
   ]
  },
  {
   "cell_type": "code",
   "execution_count": 101,
   "metadata": {},
   "outputs": [],
   "source": [
    "bst = BST()\n",
    "bst.add(5)\n",
    "bst.add(6)\n",
    "bst.add(7)\n",
    "bst.add(2)\n",
    "bst.add(3)\n",
    "bst.add(4)"
   ]
  },
  {
   "cell_type": "code",
   "execution_count": 102,
   "metadata": {},
   "outputs": [
    {
     "name": "stdout",
     "output_type": "stream",
     "text": [
      "2\n",
      "3\n",
      "4\n",
      "5\n",
      "6\n",
      "7\n"
     ]
    }
   ],
   "source": [
    "bst.display()"
   ]
  },
  {
   "cell_type": "code",
   "execution_count": 103,
   "metadata": {},
   "outputs": [
    {
     "data": {
      "text/plain": [
       "[2, 3, 4, 5, 6, 7]"
      ]
     },
     "execution_count": 103,
     "metadata": {},
     "output_type": "execute_result"
    }
   ],
   "source": [
    "bst.get_in_order_list()"
   ]
  },
  {
   "cell_type": "code",
   "execution_count": 104,
   "metadata": {},
   "outputs": [
    {
     "data": {
      "text/plain": [
       "2"
      ]
     },
     "execution_count": 104,
     "metadata": {},
     "output_type": "execute_result"
    }
   ],
   "source": [
    "bst.get_min_value()"
   ]
  },
  {
   "cell_type": "code",
   "execution_count": 105,
   "metadata": {},
   "outputs": [
    {
     "data": {
      "text/plain": [
       "7"
      ]
     },
     "execution_count": 105,
     "metadata": {},
     "output_type": "execute_result"
    }
   ],
   "source": [
    "bst.get_max_value()"
   ]
  },
  {
   "cell_type": "code",
   "execution_count": null,
   "metadata": {},
   "outputs": [],
   "source": []
  }
 ],
 "metadata": {
  "kernelspec": {
   "display_name": "Python 3",
   "language": "python",
   "name": "python3"
  },
  "language_info": {
   "codemirror_mode": {
    "name": "ipython",
    "version": 3
   },
   "file_extension": ".py",
   "mimetype": "text/x-python",
   "name": "python",
   "nbconvert_exporter": "python",
   "pygments_lexer": "ipython3",
   "version": "3.7.4"
  }
 },
 "nbformat": 4,
 "nbformat_minor": 2
}
