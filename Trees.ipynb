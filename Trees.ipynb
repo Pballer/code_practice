{
 "cells": [
  {
   "cell_type": "code",
   "execution_count": 87,
   "metadata": {},
   "outputs": [],
   "source": [
    "class Node:\n",
    "    \n",
    "    def __init__(self, value):\n",
    "        self.value = value\n",
    "        self.right_child = None\n",
    "        self.left_child = None"
   ]
  },
  {
   "cell_type": "code",
   "execution_count": 88,
   "metadata": {},
   "outputs": [],
   "source": [
    "class Tree:\n",
    "    \n",
    "    def __init__(self):\n",
    "        self.head = None"
   ]
  },
  {
   "cell_type": "code",
   "execution_count": 89,
   "metadata": {},
   "outputs": [],
   "source": [
    "class BST(Tree):\n",
    "    \n",
    "    def __init__(self):\n",
    "        Tree.__init__(self)\n",
    "        \n",
    "        self.displays = {'in': self._display_in_order,\n",
    "                        'pre': self._display_pre_order,\n",
    "                        'post': self._display_post_order}\n",
    "    \n",
    "        \n",
    "    def _add_child(self, value, node):\n",
    "        if value < node.value:\n",
    "            if not node.left_child:\n",
    "                node.left_child = Node(value)\n",
    "                return\n",
    "            self._add_child(value, node.left_child)\n",
    "        else:\n",
    "            if not node.right_child:\n",
    "                node.right_child = Node(value)\n",
    "                return\n",
    "            self._add_child(value, node.right_child)\n",
    "                \n",
    "    \n",
    "    def add(self, value):\n",
    "        \n",
    "        if not self.head:\n",
    "            self.head = Node(value)\n",
    "            return\n",
    "        \n",
    "        self._add_child(value, self.head)\n",
    "        \n",
    "    def display(self, display_type='in'):\n",
    "        display_func = self.displays.get(display_type)\n",
    "        display_func(self.head)\n",
    "    \n",
    "    def _display_in_order(self, node):\n",
    "        if node:\n",
    "            self._display_in_order(node.left_child)\n",
    "            print(node.value)\n",
    "            self._display_in_order(node.right_child)\n",
    "            \n",
    "    def _display_pre_order(self, node):\n",
    "        if node:\n",
    "            print(node.value)\n",
    "            self._display_pre_order(node.left_child)\n",
    "            self._display_pre_order(node.right_child)\n",
    "            \n",
    "    def _display_post_order(self, node):\n",
    "        if node:\n",
    "            self._display_post_order(node.left_child)\n",
    "            self._display_post_order(node.right_child)\n",
    "            print(node.value)\n",
    "    "
   ]
  },
  {
   "cell_type": "code",
   "execution_count": 90,
   "metadata": {},
   "outputs": [],
   "source": [
    "bst = BST()\n",
    "bst.add(5)\n",
    "bst.add(6)\n",
    "bst.add(7)\n",
    "bst.add(2)\n",
    "bst.add(3)\n",
    "bst.add(4)"
   ]
  },
  {
   "cell_type": "code",
   "execution_count": 91,
   "metadata": {},
   "outputs": [
    {
     "name": "stdout",
     "output_type": "stream",
     "text": [
      "2\n",
      "3\n",
      "4\n",
      "5\n",
      "6\n",
      "7\n"
     ]
    }
   ],
   "source": [
    "bst.display()"
   ]
  },
  {
   "cell_type": "code",
   "execution_count": null,
   "metadata": {},
   "outputs": [],
   "source": []
  }
 ],
 "metadata": {
  "kernelspec": {
   "display_name": "Python 3",
   "language": "python",
   "name": "python3"
  },
  "language_info": {
   "codemirror_mode": {
    "name": "ipython",
    "version": 3
   },
   "file_extension": ".py",
   "mimetype": "text/x-python",
   "name": "python",
   "nbconvert_exporter": "python",
   "pygments_lexer": "ipython3",
   "version": "3.7.4"
  }
 },
 "nbformat": 4,
 "nbformat_minor": 2
}
