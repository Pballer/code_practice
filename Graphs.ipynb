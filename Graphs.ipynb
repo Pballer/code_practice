{
 "cells": [
  {
   "cell_type": "code",
   "execution_count": 50,
   "metadata": {},
   "outputs": [],
   "source": [
    "import heapq\n",
    "from collections import defaultdict\n",
    "import pprint"
   ]
  },
  {
   "cell_type": "code",
   "execution_count": 192,
   "metadata": {},
   "outputs": [],
   "source": [
    "connections = [('A', 'B', 2), ('B', 'C', 4), ('B', 'D', 1), ('C', 'D', 6), ('E', 'F', 7), ('F', 'C', 5),\n",
    "              ('A', 'E', 3),]"
   ]
  },
  {
   "cell_type": "code",
   "execution_count": 193,
   "metadata": {},
   "outputs": [],
   "source": [
    "class Graph:\n",
    "    \n",
    "    def __init__(self, connections=None, directed=False):\n",
    "        self._graph = defaultdict(set)\n",
    "        self._directed = directed\n",
    "        \n",
    "        for connection in connections:\n",
    "            self.add(connection[0], connection[1], connection[2])\n",
    "    \n",
    "    \n",
    "    def add(self, node1, node2, weight):\n",
    "        self._graph[node1].add((node2, weight))\n",
    "        if not self._directed:\n",
    "            self._graph[node2].add((node1, weight))\n",
    "         \n",
    "    def find_path(self, start, end, path=[]):\n",
    "        ''' Find any path between start and end.  Not necessarily the shortest. '''\n",
    "        \n",
    "        path = path + [start]\n",
    "        if start == end:\n",
    "            return path\n",
    "        \n",
    "        for node in self._graph[start]:\n",
    "            if node not in path:\n",
    "                new_path = self.find_path(node, end, path)\n",
    "                return new_path\n",
    "            \n",
    "    def dijkstras(self, start):\n",
    "        # init cost to all nodes to infinity.\n",
    "        cost_to_node = {node: float('inf') for node in self._graph}\n",
    "        cost_to_node[start] = 0\n",
    "        \n",
    "        # To keep track of previously visited nodes.\n",
    "        visited_nodes = set()\n",
    "        \n",
    "        pqueue = []\n",
    "        for node, dist in cost_to_node.items():\n",
    "            heapq.heappush(pqueue, (dist, node))\n",
    "        \n",
    "        # Loop through all nodes.\n",
    "        while pqueue:\n",
    "            # Pop nearest node.\n",
    "            current_dist, current_node = heapq.heappop(pqueue)\n",
    "            # Add node to visited list.\n",
    "            visited_nodes.add(current_node)\n",
    "            \n",
    "            # Loop through neighbor nodes.\n",
    "            for neighbor_node, neighbor_dist in self._graph[current_node]:\n",
    "                # Skip nodes that have already been visited.\n",
    "                if neighbor_node in visited_nodes:\n",
    "                    continue\n",
    "                    \n",
    "                if current_dist + neighbor_dist < cost_to_node[neighbor_node]:\n",
    "                    self._update_pqueue_priority(pqueue, \n",
    "                                                 (cost_to_node[neighbor_node], neighbor_node),\n",
    "                                                 (current_dist + neighbor_dist, neighbor_node),\n",
    "                                                )\n",
    "                    cost_to_node[neighbor_node] = current_dist + neighbor_dist\n",
    "                    \n",
    "        return cost_to_node\n",
    "                    \n",
    "                    \n",
    "    def _update_pqueue_priority(self, pqueue, current_node, replacement_node):\n",
    "        index = pqueue.index(current_node)\n",
    "        pqueue[index] = replacement_node\n",
    "        heapq.heapify(pqueue)\n",
    "        return pqueue\n",
    "    \n",
    "    def __repr__(self):\n",
    "        return pprint.pformat(self._graph)\n",
    "        "
   ]
  },
  {
   "cell_type": "code",
   "execution_count": 194,
   "metadata": {},
   "outputs": [],
   "source": [
    "graph = Graph(connections, directed=False)"
   ]
  },
  {
   "cell_type": "code",
   "execution_count": 195,
   "metadata": {},
   "outputs": [],
   "source": [
    "q = graph.dijkstras('A')"
   ]
  },
  {
   "cell_type": "code",
   "execution_count": 196,
   "metadata": {},
   "outputs": [
    {
     "data": {
      "text/plain": [
       "{'A': 0, 'B': 2, 'C': 6, 'D': 3, 'E': 3, 'F': 10}"
      ]
     },
     "execution_count": 196,
     "metadata": {},
     "output_type": "execute_result"
    }
   ],
   "source": [
    "q"
   ]
  },
  {
   "cell_type": "code",
   "execution_count": 148,
   "metadata": {
    "scrolled": true
   },
   "outputs": [
    {
     "data": {
      "text/plain": [
       "[(5, 'F'), (inf, 'D'), (inf, 'B'), (inf, 'F'), (inf, 'E'), (inf, 'C')]"
      ]
     },
     "execution_count": 148,
     "metadata": {},
     "output_type": "execute_result"
    }
   ],
   "source": [
    "q"
   ]
  },
  {
   "cell_type": "code",
   "execution_count": null,
   "metadata": {},
   "outputs": [],
   "source": []
  }
 ],
 "metadata": {
  "kernelspec": {
   "display_name": "Python 3",
   "language": "python",
   "name": "python3"
  },
  "language_info": {
   "codemirror_mode": {
    "name": "ipython",
    "version": 3
   },
   "file_extension": ".py",
   "mimetype": "text/x-python",
   "name": "python",
   "nbconvert_exporter": "python",
   "pygments_lexer": "ipython3",
   "version": "3.7.4"
  }
 },
 "nbformat": 4,
 "nbformat_minor": 2
}
