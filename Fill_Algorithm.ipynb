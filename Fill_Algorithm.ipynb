{
 "cells": [
  {
   "cell_type": "markdown",
   "metadata": {},
   "source": [
    "### Fill Algorithm\n",
    "This 'fill' algorithm is the same behavior as Microsoft paint's fill feature. <br>\n",
    "It is a DFS graph algorithm where neighbor nodes will be visited and filled if they are the same as the initial point."
   ]
  },
  {
   "cell_type": "code",
   "execution_count": 127,
   "metadata": {},
   "outputs": [],
   "source": [
    "from collections import deque\n",
    "import pprint\n",
    "import random"
   ]
  },
  {
   "cell_type": "code",
   "execution_count": 128,
   "metadata": {},
   "outputs": [],
   "source": [
    "my_canvas = [['X','X','X','X','X','X','X','X',],\n",
    "          ['X','X','X','X','X','X','X','X',],\n",
    "          ['X','X','X','X','X','X','X','X',],\n",
    "          ['X','X','X','X','X','X','X','X',],\n",
    "          ['X','X','X','X','X','X','X','X',],\n",
    "          ['X','X','X','X','X','X','X','X',],\n",
    "          ['X','X','X','X','X','X','X','X',],\n",
    "          ['X','X','X','X','X','X','X','X',]]"
   ]
  },
  {
   "cell_type": "code",
   "execution_count": 129,
   "metadata": {},
   "outputs": [],
   "source": [
    "for r in range(1, len(my_canvas)-1):\n",
    "    for c in range(1, len(my_canvas[r])-1):\n",
    "        my_canvas[r][c] = 'O'"
   ]
  },
  {
   "cell_type": "code",
   "execution_count": 130,
   "metadata": {},
   "outputs": [
    {
     "data": {
      "text/plain": [
       "[['X', 'X', 'X', 'X', 'X', 'X', 'X', 'X'],\n",
       " ['X', 'O', 'O', 'O', 'O', 'O', 'O', 'X'],\n",
       " ['X', 'O', 'O', 'O', 'O', 'O', 'O', 'X'],\n",
       " ['X', 'O', 'O', 'O', 'O', 'O', 'O', 'X'],\n",
       " ['X', 'O', 'O', 'O', 'O', 'O', 'O', 'X'],\n",
       " ['X', 'O', 'O', 'O', 'O', 'O', 'O', 'X'],\n",
       " ['X', 'O', 'O', 'O', 'O', 'O', 'O', 'X'],\n",
       " ['X', 'X', 'X', 'X', 'X', 'X', 'X', 'X']]"
      ]
     },
     "execution_count": 130,
     "metadata": {},
     "output_type": "execute_result"
    }
   ],
   "source": [
    "my_canvas  "
   ]
  },
  {
   "cell_type": "code",
   "execution_count": 131,
   "metadata": {},
   "outputs": [],
   "source": [
    "class Canvas:\n",
    "    \n",
    "    def __init__(self, canvas=None, size=8, random_fill=30):\n",
    "        \n",
    "        \n",
    "        self.canvas = canvas\n",
    "        \n",
    "        if not self.canvas:\n",
    "            row = ['X'] * 8\n",
    "            self.canvas = [row.copy() for i in range(size)]\n",
    "            for _ in range(random_fill):\n",
    "                ran_x = random.randint(0, size-1)\n",
    "                ran_y = random.randint(0, size-1)\n",
    "                self.canvas[ran_x][ran_y] = 'O'\n",
    "            \n",
    "            \n",
    "        self.x_high = len(self.canvas)\n",
    "        self.y_high = len(self.canvas[0])\n",
    "        \n",
    "        \n",
    "    def get_color(self, x, y):\n",
    "        if x < 0 or x >= self.x_high or y < 0 or y >= self.y_high:\n",
    "            return\n",
    "        \n",
    "        return self.canvas[x][y]\n",
    "    \n",
    "    \n",
    "    def set_color(self, x, y, color):\n",
    "        self.canvas[x][y] = color\n",
    "        \n",
    "        \n",
    "    def fill(self, x, y, color):\n",
    "        ''' Fill cell and neighbor cells of the same color. '''\n",
    "        if x < 0 or x >= self.x_high or y < 0 or y >= self.y_high:\n",
    "            return\n",
    "        \n",
    "        pior_color = self.get_color(x, y)\n",
    "        \n",
    "        if pior_color == color:\n",
    "            return\n",
    "        \n",
    "        self.set_color(x, y, color)\n",
    "        \n",
    "        for neighbor_x, neighbor_y in self._neighbor_positions(x, y):\n",
    "            if pior_color == self.get_color(neighbor_x, neighbor_y):\n",
    "                self.fill(neighbor_x, neighbor_y, color)\n",
    "                \n",
    "        \n",
    "    def _neighbor_positions(self, x, y):\n",
    "        return [(x-1, y), (x+1, y), (x, y-1), (x, y+1)]\n",
    "        \n",
    "        \n",
    "    def __repr__(self):\n",
    "        return pprint.pformat(self.canvas)"
   ]
  },
  {
   "cell_type": "code",
   "execution_count": 132,
   "metadata": {},
   "outputs": [],
   "source": [
    "canvas = Canvas()"
   ]
  },
  {
   "cell_type": "code",
   "execution_count": 133,
   "metadata": {},
   "outputs": [
    {
     "data": {
      "text/plain": [
       "[['X', 'X', 'X', 'O', 'X', 'O', 'O', 'O'],\n",
       " ['X', 'O', 'X', 'O', 'X', 'O', 'X', 'X'],\n",
       " ['X', 'X', 'O', 'O', 'X', 'X', 'X', 'O'],\n",
       " ['X', 'O', 'X', 'O', 'X', 'O', 'O', 'O'],\n",
       " ['X', 'X', 'X', 'X', 'X', 'O', 'O', 'X'],\n",
       " ['X', 'X', 'X', 'X', 'X', 'O', 'X', 'X'],\n",
       " ['O', 'X', 'X', 'O', 'O', 'O', 'O', 'X'],\n",
       " ['X', 'X', 'O', 'X', 'X', 'O', 'X', 'X']]"
      ]
     },
     "execution_count": 133,
     "metadata": {},
     "output_type": "execute_result"
    }
   ],
   "source": [
    "canvas"
   ]
  },
  {
   "cell_type": "code",
   "execution_count": 134,
   "metadata": {},
   "outputs": [],
   "source": [
    "canvas.fill(3, 7, 'H')"
   ]
  },
  {
   "cell_type": "code",
   "execution_count": 135,
   "metadata": {},
   "outputs": [
    {
     "data": {
      "text/plain": [
       "[['X', 'X', 'X', 'O', 'X', 'O', 'O', 'O'],\n",
       " ['X', 'O', 'X', 'O', 'X', 'O', 'X', 'X'],\n",
       " ['X', 'X', 'O', 'O', 'X', 'X', 'X', 'H'],\n",
       " ['X', 'O', 'X', 'O', 'X', 'H', 'H', 'H'],\n",
       " ['X', 'X', 'X', 'X', 'X', 'H', 'H', 'X'],\n",
       " ['X', 'X', 'X', 'X', 'X', 'H', 'X', 'X'],\n",
       " ['O', 'X', 'X', 'H', 'H', 'H', 'H', 'X'],\n",
       " ['X', 'X', 'O', 'X', 'X', 'H', 'X', 'X']]"
      ]
     },
     "execution_count": 135,
     "metadata": {},
     "output_type": "execute_result"
    }
   ],
   "source": [
    "canvas"
   ]
  }
 ],
 "metadata": {
  "kernelspec": {
   "display_name": "Python 3",
   "language": "python",
   "name": "python3"
  },
  "language_info": {
   "codemirror_mode": {
    "name": "ipython",
    "version": 3
   },
   "file_extension": ".py",
   "mimetype": "text/x-python",
   "name": "python",
   "nbconvert_exporter": "python",
   "pygments_lexer": "ipython3",
   "version": "3.7.4"
  }
 },
 "nbformat": 4,
 "nbformat_minor": 2
}
